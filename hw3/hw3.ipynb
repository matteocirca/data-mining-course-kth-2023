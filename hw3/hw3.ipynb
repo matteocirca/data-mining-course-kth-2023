{
 "cells": [
  {
   "cell_type": "markdown",
   "metadata": {},
   "source": [
    "# Homework 4"
   ]
  },
  {
   "cell_type": "code",
   "execution_count": 1,
   "metadata": {},
   "outputs": [],
   "source": [
    "import networkx as nx\n",
    "\n",
    "import random"
   ]
  },
  {
   "cell_type": "markdown",
   "metadata": {},
   "source": [
    "## Visualize data"
   ]
  },
  {
   "cell_type": "markdown",
   "metadata": {},
   "source": [
    "We chose the Google web graph at https://snap.stanford.edu/data/web-Google.html."
   ]
  },
  {
   "cell_type": "code",
   "execution_count": 24,
   "metadata": {},
   "outputs": [],
   "source": [
    "folder = 'data'\n",
    "file = 'web-NotreDame.txt'\n",
    "\n",
    "def read_graph(folder, file):\n",
    "    with open(folder + '/' + file, 'r') as f:\n",
    "        graph = nx.DiGraph()\n",
    "        # skip first 4 lines\n",
    "        for i in range(4):\n",
    "            f.readline()\n",
    "        # each line is an edge (pair of nodes)\n",
    "        # counter = 0\n",
    "        for line in f:\n",
    "            # if counter == 1000:\n",
    "            #     break\n",
    "            edge = line.split()\n",
    "            graph.add_edge(int(edge[0]), int(edge[1]))\n",
    "            # counter += 1\n",
    "    return graph"
   ]
  },
  {
   "cell_type": "code",
   "execution_count": 25,
   "metadata": {},
   "outputs": [
    {
     "name": "stdout",
     "output_type": "stream",
     "text": [
      "Number of nodes:  325729\n",
      "Number of edges:  1497134\n"
     ]
    }
   ],
   "source": [
    "G = read_graph(folder, file)\n",
    "\n",
    "print(\"Number of nodes: \", G.number_of_nodes())\n",
    "print(\"Number of edges: \", G.number_of_edges())"
   ]
  },
  {
   "cell_type": "code",
   "execution_count": null,
   "metadata": {},
   "outputs": [],
   "source": [
    "# visualize the graph\n",
    "# import matplotlib.pyplot as plt\n",
    "# %matplotlib inline\n",
    "\n",
    "# plt.figure(figsize=(10, 10))\n",
    "# nx.draw(G, node_size=10)\n",
    "# plt.show()"
   ]
  },
  {
   "cell_type": "code",
   "execution_count": 26,
   "metadata": {},
   "outputs": [
    {
     "name": "stdout",
     "output_type": "stream",
     "text": [
      "Number of nodes:  325729\n",
      "Number of edges:  1117563\n"
     ]
    }
   ],
   "source": [
    "# convert G to undirected graph\n",
    "G_undirected = G.to_undirected()\n",
    "\n",
    "print(\"Number of nodes: \", G_undirected.number_of_nodes())\n",
    "print(\"Number of edges: \", G_undirected.number_of_edges())"
   ]
  },
  {
   "cell_type": "code",
   "execution_count": 28,
   "metadata": {},
   "outputs": [
    {
     "name": "stdout",
     "output_type": "stream",
     "text": [
      "Number of triangles:  8910005.0\n"
     ]
    }
   ],
   "source": [
    "# calculate number of triangles\n",
    "triangles = nx.triangles(G_undirected)\n",
    "\n",
    "print(\"Number of triangles: \", sum(triangles.values()) / 3)"
   ]
  },
  {
   "cell_type": "markdown",
   "metadata": {},
   "source": [
    "## Streaming graph algorithm"
   ]
  },
  {
   "cell_type": "code",
   "execution_count": 10,
   "metadata": {},
   "outputs": [],
   "source": [
    "stream = []\n",
    "\n",
    "edge_res = [] # list of edges (i, j)\n",
    "wedge_res = [] # list of wedges (i, j, k)\n",
    "isClosed = [] # boolean array\n",
    "tot_wedges = 0 # this is the total number of wedges formed by edges in the current edge res\n",
    "\n",
    "def closed_by(wedge, edge):\n",
    "    if edge[0] == wedge[2] and edge[1] == wedge[0]:\n",
    "        return True\n",
    "    return False\n",
    "\n",
    "def update_tot_wedges():\n",
    "    global tot_wedges\n",
    "\n",
    "    for i in range(len(edge_res)):\n",
    "        for j in range(i + 1, len(edge_res)):\n",
    "            intersection = set(edge_res[i]).intersection(set(edge_res[j]))\n",
    "            if len(intersection) == 1 and (edge_res[i][1] == edge_res[j][0] or edge_res[i][0] == edge_res[j][1]):\n",
    "                tot_wedges += 1\n",
    "\n",
    "def calculate_N_t(edge_t):\n",
    "    N_t_list = []\n",
    "\n",
    "    for i in range(len(edge_res)):\n",
    "        intersection = set(edge_t).intersection(set(edge_res[i]))\n",
    "        if len(intersection) == 1 and (edge_res[i][1] == edge_t[0] or edge_res[i][0] == edge_t[1]):\n",
    "            N_t_list.append(i)\n",
    "\n",
    "    return N_t_list\n",
    "\n",
    "def streaming_triangles(s_e, s_w):\n",
    "    global edge_res, wedge_res\n",
    "\n",
    "    k_t = []\n",
    "    T_t = []\n",
    "\n",
    "    # initialize edge_res, wedge_res with size s_e, s_w\n",
    "    for i in range(s_e):\n",
    "        edge_res.append((0, 0))\n",
    "    for i in range(s_w):\n",
    "        wedge_res.append((0, 0, 0))\n",
    "        isClosed.append(False)\n",
    "\n",
    "    for edge_t, t in zip(stream, range(1, len(stream) + 1)):\n",
    "        update(edge_t, s_e, s_w, t)\n",
    "        # count the fraction of entries in isClosed set to true\n",
    "        p = sum(isClosed) / len(isClosed) if len(isClosed) != 0 else 0\n",
    "        k_t.append(3 * p)\n",
    "        T_t.append((p * t * t / s_e * (s_e - 1)) * tot_wedges)\n",
    "\n",
    "    return T_t\n",
    "\n",
    "def update(edge_t, s_e, s_w, t):\n",
    "    global isClosed, tot_wedges, edge_res, wedge_res\n",
    "\n",
    "    for i in range(s_w):\n",
    "        if closed_by(wedge_res[i], edge_t):\n",
    "            isClosed[i] = True\n",
    "\n",
    "    edge_res_old = edge_res.copy()\n",
    "\n",
    "    for i in range(s_e):\n",
    "        # pick a random number from 0 to 1\n",
    "        x = random.random()\n",
    "        if x <= 1 / t:\n",
    "            edge_res[i] = edge_t\n",
    "        # if there were any updates of edge res\n",
    "    if edge_res != edge_res_old:\n",
    "        # update tot_wedges, the number of wedges formed by edge_res\n",
    "        update_tot_wedges()\n",
    "        N_t_list = calculate_N_t(edge_t)\n",
    "        new_wedges = len(N_t_list)\n",
    "\n",
    "        # print(edge_res)\n",
    "        # print(wedge_res)\n",
    "\n",
    "        for i in range(s_w):\n",
    "            x = random.random()\n",
    "            ratio = new_wedges / tot_wedges if tot_wedges != 0 else 0\n",
    "            if x <= ratio:\n",
    "                wedge_res[i] = (edge_t[0], edge_res[i][0], edge_res[i][1])\n",
    "                wedge_res[i] = (edge_res[i][0], edge_res[i][1], edge_t[1])\n",
    "                # pick uniform random wedge in N_t_list\n",
    "                i = random.randint(0, len(N_t_list) - 1)\n",
    "                index = N_t_list[i]\n",
    "                wedge_res[index] = (edge_res[index][0], edge_t[0], edge_t[1]) # TODO: check if we save it in the right order\n",
    "                isClosed[index] = False"
   ]
  },
  {
   "cell_type": "code",
   "execution_count": 12,
   "metadata": {},
   "outputs": [
    {
     "name": "stdout",
     "output_type": "stream",
     "text": [
      "[0.0, 0.0, 0.0, 0.0, 0.0, 0.0]\n"
     ]
    }
   ],
   "source": [
    "stream = [(1, 2), (1, 3), (4, 1), (2, 3), (2, 4), (3, 4)]\n",
    "\n",
    "print(streaming_triangles(6, 6))"
   ]
  },
  {
   "cell_type": "markdown",
   "metadata": {},
   "source": [
    "## Final questions"
   ]
  },
  {
   "cell_type": "markdown",
   "metadata": {},
   "source": [
    "1. What were the challenges you faced when implementing the algorithm?\n",
    "2. Can the algorithm be easily parallelized? If yes, how? If not, why? Explain.\n",
    "3. Does the algorithm work for unbounded graph streams? Explain.\n",
    "4. Does the algorithm support edge deletions? If not, what modification would it need? Explain."
   ]
  }
 ],
 "metadata": {
  "kernelspec": {
   "display_name": "test",
   "language": "python",
   "name": "python3"
  },
  "language_info": {
   "codemirror_mode": {
    "name": "ipython",
    "version": 3
   },
   "file_extension": ".py",
   "mimetype": "text/x-python",
   "name": "python",
   "nbconvert_exporter": "python",
   "pygments_lexer": "ipython3",
   "version": "3.8.18"
  }
 },
 "nbformat": 4,
 "nbformat_minor": 2
}
