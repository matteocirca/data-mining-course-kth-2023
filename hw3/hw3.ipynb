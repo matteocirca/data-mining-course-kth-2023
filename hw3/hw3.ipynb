{
 "cells": [
  {
   "cell_type": "markdown",
   "metadata": {},
   "source": [
    "# Homework 4"
   ]
  },
  {
   "cell_type": "code",
   "execution_count": 23,
   "metadata": {},
   "outputs": [],
   "source": [
    "import networkx as nx"
   ]
  },
  {
   "cell_type": "markdown",
   "metadata": {},
   "source": [
    "## Visualize data"
   ]
  },
  {
   "cell_type": "markdown",
   "metadata": {},
   "source": [
    "We chose the Google web graph at https://snap.stanford.edu/data/web-Google.html."
   ]
  },
  {
   "cell_type": "code",
   "execution_count": 24,
   "metadata": {},
   "outputs": [],
   "source": [
    "folder = 'data'\n",
    "file = 'web-NotreDame.txt'\n",
    "\n",
    "def read_graph(folder, file):\n",
    "    with open(folder + '/' + file, 'r') as f:\n",
    "        graph = nx.DiGraph()\n",
    "        # skip first 4 lines\n",
    "        for i in range(4):\n",
    "            f.readline()\n",
    "        # each line is an edge (pair of nodes)\n",
    "        # counter = 0\n",
    "        for line in f:\n",
    "            # if counter == 1000:\n",
    "            #     break\n",
    "            edge = line.split()\n",
    "            graph.add_edge(int(edge[0]), int(edge[1]))\n",
    "            # counter += 1\n",
    "    return graph"
   ]
  },
  {
   "cell_type": "code",
   "execution_count": 25,
   "metadata": {},
   "outputs": [
    {
     "name": "stdout",
     "output_type": "stream",
     "text": [
      "Number of nodes:  325729\n",
      "Number of edges:  1497134\n"
     ]
    }
   ],
   "source": [
    "G = read_graph(folder, file)\n",
    "\n",
    "print(\"Number of nodes: \", G.number_of_nodes())\n",
    "print(\"Number of edges: \", G.number_of_edges())"
   ]
  },
  {
   "cell_type": "code",
   "execution_count": null,
   "metadata": {},
   "outputs": [],
   "source": [
    "# visualize the graph\n",
    "# import matplotlib.pyplot as plt\n",
    "# %matplotlib inline\n",
    "\n",
    "# plt.figure(figsize=(10, 10))\n",
    "# nx.draw(G, node_size=10)\n",
    "# plt.show()"
   ]
  },
  {
   "cell_type": "code",
   "execution_count": 26,
   "metadata": {},
   "outputs": [
    {
     "name": "stdout",
     "output_type": "stream",
     "text": [
      "Number of nodes:  325729\n",
      "Number of edges:  1117563\n"
     ]
    }
   ],
   "source": [
    "# convert G to undirected graph\n",
    "G_undirected = G.to_undirected()\n",
    "\n",
    "print(\"Number of nodes: \", G_undirected.number_of_nodes())\n",
    "print(\"Number of edges: \", G_undirected.number_of_edges())"
   ]
  },
  {
   "cell_type": "code",
   "execution_count": 28,
   "metadata": {},
   "outputs": [
    {
     "name": "stdout",
     "output_type": "stream",
     "text": [
      "Number of triangles:  8910005.0\n"
     ]
    }
   ],
   "source": [
    "# calculate number of triangles\n",
    "triangles = nx.triangles(G_undirected)\n",
    "\n",
    "print(\"Number of triangles: \", sum(triangles.values()) / 3)"
   ]
  },
  {
   "cell_type": "markdown",
   "metadata": {},
   "source": [
    "## Sampling algorithm implementation"
   ]
  },
  {
   "cell_type": "markdown",
   "metadata": {},
   "source": [
    "## Streaming graph algorithm"
   ]
  },
  {
   "cell_type": "markdown",
   "metadata": {},
   "source": [
    "## Final questions"
   ]
  },
  {
   "cell_type": "markdown",
   "metadata": {},
   "source": [
    "1. What were the challenges you faced when implementing the algorithm?\n",
    "2. Can the algorithm be easily parallelized? If yes, how? If not, why? Explain.\n",
    "3. Does the algorithm work for unbounded graph streams? Explain.\n",
    "4. Does the algorithm support edge deletions? If not, what modification would it need? Explain."
   ]
  }
 ],
 "metadata": {
  "kernelspec": {
   "display_name": "test",
   "language": "python",
   "name": "python3"
  },
  "language_info": {
   "codemirror_mode": {
    "name": "ipython",
    "version": 3
   },
   "file_extension": ".py",
   "mimetype": "text/x-python",
   "name": "python",
   "nbconvert_exporter": "python",
   "pygments_lexer": "ipython3",
   "version": "3.8.18"
  }
 },
 "nbformat": 4,
 "nbformat_minor": 2
}
