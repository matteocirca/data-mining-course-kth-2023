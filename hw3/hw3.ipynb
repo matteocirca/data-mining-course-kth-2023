{
 "cells": [
  {
   "cell_type": "markdown",
   "metadata": {},
   "source": [
    "# Homework 4"
   ]
  },
  {
   "cell_type": "code",
   "execution_count": 21,
   "metadata": {},
   "outputs": [],
   "source": [
    "import networkx as nx\n",
    "\n",
    "import random"
   ]
  },
  {
   "cell_type": "markdown",
   "metadata": {},
   "source": [
    "## Visualize data"
   ]
  },
  {
   "cell_type": "markdown",
   "metadata": {},
   "source": [
    "We chose the Google web graph at https://snap.stanford.edu/data/web-Google.html."
   ]
  },
  {
   "cell_type": "code",
   "execution_count": 24,
   "metadata": {},
   "outputs": [],
   "source": [
    "folder = 'data'\n",
    "file = 'web-NotreDame.txt'\n",
    "\n",
    "def read_graph(folder, file):\n",
    "    with open(folder + '/' + file, 'r') as f:\n",
    "        graph = nx.DiGraph()\n",
    "        # skip first 4 lines\n",
    "        for i in range(4):\n",
    "            f.readline()\n",
    "        # each line is an edge (pair of nodes)\n",
    "        # counter = 0\n",
    "        for line in f:\n",
    "            # if counter == 1000:\n",
    "            #     break\n",
    "            edge = line.split()\n",
    "            graph.add_edge(int(edge[0]), int(edge[1]))\n",
    "            # counter += 1\n",
    "    return graph"
   ]
  },
  {
   "cell_type": "code",
   "execution_count": 25,
   "metadata": {},
   "outputs": [
    {
     "name": "stdout",
     "output_type": "stream",
     "text": [
      "Number of nodes:  325729\n",
      "Number of edges:  1497134\n"
     ]
    }
   ],
   "source": [
    "G = read_graph(folder, file)\n",
    "\n",
    "print(\"Number of nodes: \", G.number_of_nodes())\n",
    "print(\"Number of edges: \", G.number_of_edges())"
   ]
  },
  {
   "cell_type": "code",
   "execution_count": null,
   "metadata": {},
   "outputs": [],
   "source": [
    "# visualize the graph\n",
    "# import matplotlib.pyplot as plt\n",
    "# %matplotlib inline\n",
    "\n",
    "# plt.figure(figsize=(10, 10))\n",
    "# nx.draw(G, node_size=10)\n",
    "# plt.show()"
   ]
  },
  {
   "cell_type": "code",
   "execution_count": 26,
   "metadata": {},
   "outputs": [
    {
     "name": "stdout",
     "output_type": "stream",
     "text": [
      "Number of nodes:  325729\n",
      "Number of edges:  1117563\n"
     ]
    }
   ],
   "source": [
    "# convert G to undirected graph\n",
    "G_undirected = G.to_undirected()\n",
    "\n",
    "print(\"Number of nodes: \", G_undirected.number_of_nodes())\n",
    "print(\"Number of edges: \", G_undirected.number_of_edges())"
   ]
  },
  {
   "cell_type": "code",
   "execution_count": 28,
   "metadata": {},
   "outputs": [
    {
     "name": "stdout",
     "output_type": "stream",
     "text": [
      "Number of triangles:  8910005.0\n"
     ]
    }
   ],
   "source": [
    "# calculate number of triangles\n",
    "triangles = nx.triangles(G_undirected)\n",
    "\n",
    "print(\"Number of triangles: \", sum(triangles.values()) / 3)"
   ]
  },
  {
   "cell_type": "markdown",
   "metadata": {},
   "source": [
    "## Streaming graph algorithm"
   ]
  },
  {
   "cell_type": "code",
   "execution_count": 49,
   "metadata": {},
   "outputs": [],
   "source": [
    "stream = []\n",
    "\n",
    "edge_res = [] # list of edges (i, j)\n",
    "wedge_res = [] # list of wedges (i, j, k)\n",
    "isClosed = [] # boolean array\n",
    "tot_wedges = 0 # this is the total number of wedges formed by edges in the current edge res\n",
    "\n",
    "def clean():\n",
    "    global edge_res, wedge_res, isClosed, tot_wedges\n",
    "\n",
    "    edge_res = []\n",
    "    wedge_res = []\n",
    "    isClosed = []\n",
    "    tot_wedges = 0\n",
    "\n",
    "def closed_by(wedge, edge):\n",
    "    if edge[0] == wedge[2] and edge[1] == wedge[0]:\n",
    "        return True\n",
    "    return False\n",
    "\n",
    "def update_tot_wedges():\n",
    "    global tot_wedges\n",
    "\n",
    "    for i in range(len(edge_res)):\n",
    "        for j in range(i + 1, len(edge_res)):\n",
    "            intersection = set(edge_res[i]).intersection(set(edge_res[j]))\n",
    "            if len(intersection) == 1 and (edge_res[i][1] == edge_res[j][0] or edge_res[i][0] == edge_res[j][1]):\n",
    "                tot_wedges += 1\n",
    "\n",
    "def calculate_N_t(edge_t):\n",
    "    N_t_list = []\n",
    "\n",
    "    for i in range(len(edge_res)):\n",
    "        intersection = set(edge_t).intersection(set(edge_res[i]))\n",
    "        if len(intersection) == 1 and (edge_res[i][1] == edge_t[0] or edge_res[i][0] == edge_t[1]):\n",
    "            N_t_list.append(i)\n",
    "\n",
    "    return N_t_list\n",
    "\n",
    "def streaming_triangles(s_e, s_w):\n",
    "    global edge_res, wedge_res, tot_wedges\n",
    "\n",
    "    k_t = []\n",
    "    T_t = []\n",
    "\n",
    "    # initialize edge_res, wedge_res with size s_e, s_w\n",
    "    for i in range(s_e):\n",
    "        edge_res.append((0, 0))\n",
    "    for i in range(s_w):\n",
    "        wedge_res.append((0, 0, 0))\n",
    "        isClosed.append(False)\n",
    "\n",
    "    for edge_t, t in zip(stream, range(1, len(stream) + 1)):\n",
    "        print(\"=====================================\")\n",
    "        print(\"taking edge\", edge_t, \"at time\", t)\n",
    "\n",
    "        tot_wedges = 0\n",
    "        \n",
    "        update(edge_t, s_e, s_w, t)\n",
    "        print(\"edge_res\", edge_res)\n",
    "        print(\"wedge_res\", wedge_res)\n",
    "        print(\"isClosed\", isClosed)\n",
    "        # count the fraction of entries in isClosed set to true\n",
    "        p = sum(isClosed) / len(isClosed) if len(isClosed) != 0 else 0\n",
    "        print(\"p\", p)\n",
    "        k_t.append(3 * p)\n",
    "        print(\"k_t\", k_t[t-1])\n",
    "        print(\"(p * (t * t))\", (p * (t * t)))\n",
    "        print(\"s_e\", s_e)\n",
    "        print(\"(s_e * (s_e - 1))\", (s_e * (s_e - 1)))\n",
    "        print(\"tot_wedges\", tot_wedges)\n",
    "        T_t.append(((p * (t * t)) / (s_e * (s_e - 1))) * tot_wedges)\n",
    "\n",
    "    return T_t\n",
    "\n",
    "def update(edge_t, s_e, s_w, t):\n",
    "    global isClosed, tot_wedges, edge_res, wedge_res\n",
    "\n",
    "    for i in range(s_w):\n",
    "        if closed_by(wedge_res[i], edge_t):\n",
    "            isClosed[i] = True\n",
    "\n",
    "    edge_res_old = edge_res.copy()\n",
    "\n",
    "    for i in range(s_e):\n",
    "        # pick a random number from 0 to 1\n",
    "        x = random.random()\n",
    "        if x <= 1 / t:\n",
    "            edge_res[i] = edge_t\n",
    "        # if there were any updates of edge res\n",
    "    if edge_res != edge_res_old:\n",
    "        # update tot_wedges, the number of wedges formed by edge_res\n",
    "        update_tot_wedges()\n",
    "        N_t_list = calculate_N_t(edge_t)\n",
    "        print(\"N_t_list\", N_t_list)\n",
    "        new_wedges = len(N_t_list)\n",
    "\n",
    "        for i in range(s_w):\n",
    "            x = random.random()\n",
    "            ratio = new_wedges / tot_wedges if tot_wedges != 0 else 0\n",
    "            if x <= ratio:\n",
    "                wedge_res[i] = (edge_t[0], edge_res[i][0], edge_res[i][1])\n",
    "                wedge_res[i] = (edge_res[i][0], edge_res[i][1], edge_t[1])\n",
    "                # pick uniform random wedge in N_t_list\n",
    "                w = random.randint(0, len(N_t_list) - 1)\n",
    "                print(\"w\", w)\n",
    "                index = N_t_list[w]\n",
    "                print(\"N_t_list[w]\", N_t_list[w])\n",
    "                if edge_t[1] == edge_res[index][0]:\n",
    "                    wedge_res[i] = (edge_t[0], edge_t[1], edge_res[index][1])\n",
    "                else:\n",
    "                    wedge_res[i] = (edge_res[index][0], edge_t[0], edge_t[1])\n",
    "                isClosed[i] = False"
   ]
  },
  {
   "cell_type": "code",
   "execution_count": 185,
   "metadata": {},
   "outputs": [
    {
     "name": "stdout",
     "output_type": "stream",
     "text": [
      "=====================================\n",
      "taking edge (1, 2) at time 1\n",
      "N_t_list []\n",
      "edge_res [(1, 2), (1, 2), (1, 2), (1, 2), (1, 2), (1, 2)]\n",
      "wedge_res [(0, 0, 0), (0, 0, 0), (0, 0, 0), (0, 0, 0), (0, 0, 0), (0, 0, 0)]\n",
      "isClosed [False, False, False, False, False, False]\n",
      "p 0.0\n",
      "k_t 0.0\n",
      "(p * (t * t)) 0.0\n",
      "s_e 6\n",
      "(s_e * (s_e - 1)) 30\n",
      "tot_wedges 0\n",
      "=====================================\n",
      "taking edge (1, 3) at time 2\n",
      "N_t_list []\n",
      "edge_res [(1, 3), (1, 2), (1, 3), (1, 3), (1, 3), (1, 2)]\n",
      "wedge_res [(0, 0, 0), (0, 0, 0), (0, 0, 0), (0, 0, 0), (0, 0, 0), (0, 0, 0)]\n",
      "isClosed [False, False, False, False, False, False]\n",
      "p 0.0\n",
      "k_t 0.0\n",
      "(p * (t * t)) 0.0\n",
      "s_e 6\n",
      "(s_e * (s_e - 1)) 30\n",
      "tot_wedges 0\n",
      "=====================================\n",
      "taking edge (4, 1) at time 3\n",
      "N_t_list [0, 5]\n",
      "w 1\n",
      "N_t_list[w] 5\n",
      "w 1\n",
      "N_t_list[w] 5\n",
      "w 0\n",
      "N_t_list[w] 0\n",
      "edge_res [(1, 3), (4, 1), (4, 1), (4, 1), (4, 1), (1, 2)]\n",
      "wedge_res [(0, 0, 0), (4, 1, 2), (4, 1, 2), (0, 0, 0), (0, 0, 0), (4, 1, 3)]\n",
      "isClosed [False, False, False, False, False, False]\n",
      "p 0.0\n",
      "k_t 0.0\n",
      "(p * (t * t)) 0.0\n",
      "s_e 6\n",
      "(s_e * (s_e - 1)) 30\n",
      "tot_wedges 8\n",
      "=====================================\n",
      "taking edge (2, 3) at time 4\n",
      "N_t_list [5]\n",
      "edge_res [(1, 3), (2, 3), (4, 1), (4, 1), (4, 1), (1, 2)]\n",
      "wedge_res [(0, 0, 0), (4, 1, 2), (4, 1, 2), (0, 0, 0), (0, 0, 0), (4, 1, 3)]\n",
      "isClosed [False, False, False, False, False, False]\n",
      "p 0.0\n",
      "k_t 0.0\n",
      "(p * (t * t)) 0.0\n",
      "s_e 6\n",
      "(s_e * (s_e - 1)) 30\n",
      "tot_wedges 7\n",
      "=====================================\n",
      "taking edge (2, 4) at time 5\n",
      "N_t_list [2, 4]\n",
      "w 0\n",
      "N_t_list[w] 2\n",
      "edge_res [(1, 3), (2, 3), (4, 1), (2, 4), (4, 1), (2, 4)]\n",
      "wedge_res [(0, 0, 0), (4, 1, 2), (2, 4, 1), (0, 0, 0), (0, 0, 0), (4, 1, 3)]\n",
      "isClosed [False, True, False, False, False, False]\n",
      "p 0.16666666666666666\n",
      "k_t 0.5\n",
      "(p * (t * t)) 4.166666666666666\n",
      "s_e 6\n",
      "(s_e * (s_e - 1)) 30\n",
      "tot_wedges 6\n",
      "=====================================\n",
      "taking edge (3, 4) at time 6\n",
      "N_t_list [0, 1, 2, 4]\n",
      "w 2\n",
      "N_t_list[w] 2\n",
      "edge_res [(1, 3), (2, 3), (4, 1), (2, 4), (4, 1), (3, 4)]\n",
      "wedge_res [(0, 0, 0), (4, 1, 2), (2, 4, 1), (0, 0, 0), (3, 4, 1), (4, 1, 3)]\n",
      "isClosed [False, True, False, False, False, True]\n",
      "p 0.3333333333333333\n",
      "k_t 1.0\n",
      "(p * (t * t)) 12.0\n",
      "s_e 6\n",
      "(s_e * (s_e - 1)) 30\n",
      "tot_wedges 8\n",
      "[0.0, 0.0, 0.0, 0.0, 0.8333333333333333, 3.2]\n"
     ]
    }
   ],
   "source": [
    "stream = [(1, 2), (1, 3), (4, 1), (2, 3), (2, 4), (3, 4)]\n",
    "\n",
    "clean()\n",
    "\n",
    "print(streaming_triangles(6, 6))"
   ]
  },
  {
   "cell_type": "code",
   "execution_count": null,
   "metadata": {},
   "outputs": [],
   "source": [
    "# TODO: run on the real dataset and check if the triangles are correct because we know the original number of triangles\n",
    "# TODO: understand the k_t and T_t formulas\n",
    "# Better answers in the final consideration"
   ]
  },
  {
   "cell_type": "markdown",
   "metadata": {},
   "source": [
    "## Observations"
   ]
  },
  {
   "cell_type": "markdown",
   "metadata": {},
   "source": [
    "- Diminuishing n_w result to lower the chances to close a triangle. When n_w approaches 0 then we're not estimating at all, we're just outputting 0 as an estimate\n",
    "- Reducing n_e lower the chances to create a new wedge, that in turn lowet the chances to close a triangle. When n_e approaches 0 then we're not adding any wedge at all\n",
    "- The approx. number of triangles in the graph (https://math.stackexchange.com/questions/823481/number-of-triangles-in-a-graph-based-on-number-of-edges) is abs(E)^1/2, where E is the number of edges in the graph\n",
    "- We can use this number to set the initial values of n_w and n_e\n",
    "- A suggestion is to set n_w = abs(E)^1/2 and n_e = 2 * n_w"
   ]
  },
  {
   "cell_type": "markdown",
   "metadata": {},
   "source": [
    "## Final questions"
   ]
  },
  {
   "cell_type": "markdown",
   "metadata": {},
   "source": [
    "1. What were the challenges you faced when implementing the algorithm?\n",
    "2. Can the algorithm be easily parallelized? If yes, how? If not, why? Explain. Yes, it can be parallelized because for both edge_res and wedge_res we are trying to save the current edge or wedge in each position of the two array. Therefore, if a overwriting occurs, due to the parallelization, we are safe since we are not losing any information\n",
    "3. Does the algorithm work for unbounded graph streams? Explain. No\n",
    "4. Does the algorithm support edge deletions? If not, what modification would it need? Explain. Yes"
   ]
  }
 ],
 "metadata": {
  "kernelspec": {
   "display_name": "test",
   "language": "python",
   "name": "python3"
  },
  "language_info": {
   "codemirror_mode": {
    "name": "ipython",
    "version": 3
   },
   "file_extension": ".py",
   "mimetype": "text/x-python",
   "name": "python",
   "nbconvert_exporter": "python",
   "pygments_lexer": "ipython3",
   "version": "3.8.18"
  }
 },
 "nbformat": 4,
 "nbformat_minor": 2
}
