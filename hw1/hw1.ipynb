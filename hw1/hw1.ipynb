{
 "cells": [
  {
   "cell_type": "markdown",
   "metadata": {},
   "source": [
    "# Homework 1"
   ]
  },
  {
   "cell_type": "code",
   "execution_count": 44,
   "metadata": {},
   "outputs": [],
   "source": [
    "import pandas as pd"
   ]
  },
  {
   "cell_type": "markdown",
   "metadata": {},
   "source": [
    "## Load the data"
   ]
  },
  {
   "cell_type": "code",
   "execution_count": 45,
   "metadata": {},
   "outputs": [
    {
     "data": {
      "text/html": [
       "<div>\n",
       "<style scoped>\n",
       "    .dataframe tbody tr th:only-of-type {\n",
       "        vertical-align: middle;\n",
       "    }\n",
       "\n",
       "    .dataframe tbody tr th {\n",
       "        vertical-align: top;\n",
       "    }\n",
       "\n",
       "    .dataframe thead th {\n",
       "        text-align: right;\n",
       "    }\n",
       "</style>\n",
       "<table border=\"1\" class=\"dataframe\">\n",
       "  <thead>\n",
       "    <tr style=\"text-align: right;\">\n",
       "      <th></th>\n",
       "      <th>title</th>\n",
       "      <th>text</th>\n",
       "    </tr>\n",
       "  </thead>\n",
       "  <tbody>\n",
       "    <tr>\n",
       "      <th>0</th>\n",
       "      <td>Anomaly Detection at Multiple Scales</td>\n",
       "      <td>Anomaly Detection at Multiple Scales, or ADAMS...</td>\n",
       "    </tr>\n",
       "    <tr>\n",
       "      <th>1</th>\n",
       "      <td>Behavioral analytics</td>\n",
       "      <td>Behaviorism is a systematic approach to unders...</td>\n",
       "    </tr>\n",
       "    <tr>\n",
       "      <th>2</th>\n",
       "      <td>Business analytics</td>\n",
       "      <td>Business analysis is a professional discipline...</td>\n",
       "    </tr>\n",
       "    <tr>\n",
       "      <th>3</th>\n",
       "      <td>CORE (research service)</td>\n",
       "      <td>CORE (Connecting Repositories) is a service pr...</td>\n",
       "    </tr>\n",
       "    <tr>\n",
       "      <th>4</th>\n",
       "      <td>Daisy Intelligence</td>\n",
       "      <td>Daisy Intelligence is a Canadian Artificial In...</td>\n",
       "    </tr>\n",
       "    <tr>\n",
       "      <th>5</th>\n",
       "      <td>Data Applied</td>\n",
       "      <td>Data Applied is a software vendor headquartere...</td>\n",
       "    </tr>\n",
       "    <tr>\n",
       "      <th>6</th>\n",
       "      <td>Data mining in agriculture</td>\n",
       "      <td>Data mining in agriculture is a recent researc...</td>\n",
       "    </tr>\n",
       "    <tr>\n",
       "      <th>7</th>\n",
       "      <td>Data thinking</td>\n",
       "      <td>Data thinking is a buzzword for the generic \"m...</td>\n",
       "    </tr>\n",
       "    <tr>\n",
       "      <th>8</th>\n",
       "      <td>Document processing</td>\n",
       "      <td>Document processing is a field of research and...</td>\n",
       "    </tr>\n",
       "    <tr>\n",
       "      <th>9</th>\n",
       "      <td>Equifax Workforce Solutions</td>\n",
       "      <td>Equifax Workforce Solutions, formerly known as...</td>\n",
       "    </tr>\n",
       "    <tr>\n",
       "      <th>10</th>\n",
       "      <td>Game analytics</td>\n",
       "      <td>Game analytics is the form of behavioral analy...</td>\n",
       "    </tr>\n",
       "    <tr>\n",
       "      <th>11</th>\n",
       "      <td>Inference attack</td>\n",
       "      <td>An Inference Attack is a data mining technique...</td>\n",
       "    </tr>\n",
       "    <tr>\n",
       "      <th>12</th>\n",
       "      <td>Path analysis (computing)</td>\n",
       "      <td>Path analysis, is the analysis of a path, whic...</td>\n",
       "    </tr>\n",
       "    <tr>\n",
       "      <th>13</th>\n",
       "      <td>Automatic number-plate recognition in the Unit...</td>\n",
       "      <td>Automatic number-plate recognition (ANPR; see ...</td>\n",
       "    </tr>\n",
       "    <tr>\n",
       "      <th>14</th>\n",
       "      <td>PRODIGAL (computer system)</td>\n",
       "      <td>PRODIGAL (proactive discovery of insider threa...</td>\n",
       "    </tr>\n",
       "    <tr>\n",
       "      <th>15</th>\n",
       "      <td>Text mining</td>\n",
       "      <td>Text mining, also referred to as text data min...</td>\n",
       "    </tr>\n",
       "    <tr>\n",
       "      <th>16</th>\n",
       "      <td>Zapaday</td>\n",
       "      <td>Zapaday is a global news calendar. The website...</td>\n",
       "    </tr>\n",
       "  </tbody>\n",
       "</table>\n",
       "</div>"
      ],
      "text/plain": [
       "                                                title  \\\n",
       "0                Anomaly Detection at Multiple Scales   \n",
       "1                                Behavioral analytics   \n",
       "2                                  Business analytics   \n",
       "3                             CORE (research service)   \n",
       "4                                  Daisy Intelligence   \n",
       "5                                        Data Applied   \n",
       "6                          Data mining in agriculture   \n",
       "7                                       Data thinking   \n",
       "8                                 Document processing   \n",
       "9                         Equifax Workforce Solutions   \n",
       "10                                     Game analytics   \n",
       "11                                   Inference attack   \n",
       "12                          Path analysis (computing)   \n",
       "13  Automatic number-plate recognition in the Unit...   \n",
       "14                         PRODIGAL (computer system)   \n",
       "15                                        Text mining   \n",
       "16                                            Zapaday   \n",
       "\n",
       "                                                 text  \n",
       "0   Anomaly Detection at Multiple Scales, or ADAMS...  \n",
       "1   Behaviorism is a systematic approach to unders...  \n",
       "2   Business analysis is a professional discipline...  \n",
       "3   CORE (Connecting Repositories) is a service pr...  \n",
       "4   Daisy Intelligence is a Canadian Artificial In...  \n",
       "5   Data Applied is a software vendor headquartere...  \n",
       "6   Data mining in agriculture is a recent researc...  \n",
       "7   Data thinking is a buzzword for the generic \"m...  \n",
       "8   Document processing is a field of research and...  \n",
       "9   Equifax Workforce Solutions, formerly known as...  \n",
       "10  Game analytics is the form of behavioral analy...  \n",
       "11  An Inference Attack is a data mining technique...  \n",
       "12  Path analysis, is the analysis of a path, whic...  \n",
       "13  Automatic number-plate recognition (ANPR; see ...  \n",
       "14  PRODIGAL (proactive discovery of insider threa...  \n",
       "15  Text mining, also referred to as text data min...  \n",
       "16  Zapaday is a global news calendar. The website...  "
      ]
     },
     "execution_count": 45,
     "metadata": {},
     "output_type": "execute_result"
    }
   ],
   "source": [
    "df = pd.read_csv('data/applications_of_DM.csv', sep=',')\n",
    "df\n",
    "\n",
    "#see length of data\n"
   ]
  },
  {
   "cell_type": "code",
   "execution_count": 46,
   "metadata": {},
   "outputs": [
    {
     "data": {
      "text/plain": [
       "1019"
      ]
     },
     "execution_count": 46,
     "metadata": {},
     "output_type": "execute_result"
    }
   ],
   "source": [
    "len(df[\"text\"][0])"
   ]
  },
  {
   "cell_type": "markdown",
   "metadata": {},
   "source": [
    "## First task (Shingling)"
   ]
  },
  {
   "cell_type": "code",
   "execution_count": 50,
   "metadata": {},
   "outputs": [],
   "source": [
    "class Shingling:\n",
    "    def __init__(self, k):\n",
    "        self.k = k  # The length of the shingle\n",
    "        self.N = 2 ** 32 - 1\n",
    "\n",
    "    def shingle_document(self, document):\n",
    "        shingles = set()\n",
    "        for i in range(len(document) - self.k + 1):\n",
    "            shingle = document[i:i + self.k]\n",
    "            hash_val = hash(shingle) % self.N\n",
    "            shingles.add(hash_val)\n",
    "        return shingles\n",
    "\n",
    "class CompareSets:\n",
    "    def jaccard_similarity(set1, set2):\n",
    "        intersection = set1.intersection(set2)\n",
    "        union = set1.union(set2)\n",
    "        return len(intersection) / len(union)\n",
    "        \n",
    "import random\n",
    "\n",
    "class MinHashing:\n",
    "    def __init__(self, k, num_shingles):\n",
    "        self.k = k  # The length of the signature\n",
    "        self.num_shingles = num_shingles\n",
    "        self.coefficients = [(random.randint(0, num_shingles), random.randint(0, num_shingles)) for _ in range(k)]\n",
    "\n",
    "    def minhash(self, shingles, num_shingles):\n",
    "        signature = []\n",
    "        for a, b in self.coefficients:\n",
    "            min_hash = min([(a * shingle + b) % num_shingles for shingle in shingles])\n",
    "            signature.append(min_hash)\n"
   ]
  },
  {
   "cell_type": "code",
   "execution_count": 52,
   "metadata": {},
   "outputs": [
    {
     "name": "stdout",
     "output_type": "stream",
     "text": [
      "Number of shingles 135498\n"
     ]
    }
   ],
   "source": [
    "# Get the shingles for each document\n",
    "shingling = Shingling(k=10)\n",
    "documents = df[\"text\"]\n",
    "shingles = [shingling.shingle_document(document) for document in documents] # Get the number of shingles\n",
    "num_shingles = len(set().union(*shingles))\n",
    "print(\"Number of shingles\",num_shingles)\n",
    "\n"
   ]
  },
  {
   "cell_type": "code",
   "execution_count": null,
   "metadata": {},
   "outputs": [
    {
     "name": "stdout",
     "output_type": "stream",
     "text": [
      "Jaccard similarity between doc1 and doc2 is:  0.8125\n",
      "Jaccard similarity between doc1 and doc3 is:  0.17543859649122806\n",
      "Jaccard similarity between doc2 and doc3 is:  0.1694915254237288\n"
     ]
    }
   ],
   "source": [
    "\n",
    "doc1 = \"hello world today is a good day to die\"\n",
    "doc2 = \"hello world today is a good day to live\"\n",
    "doc3 = \"this document is very different from the other two documents\"\n",
    "\n",
    "shingling = Shingling(k=2)\n",
    "shingles1 = shingling.shingle_document(doc1)\n",
    "shingles2 = shingling.shingle_document(doc2)\n",
    "shingles3 = shingling.shingle_document(doc3)\n",
    "\n",
    "print(\"Jaccard similarity between doc1 and doc2 is: \", CompareSets.jaccard_similarity(shingles1, shingles2))\n",
    "print(\"Jaccard similarity between doc1 and doc3 is: \", CompareSets.jaccard_similarity(shingles1, shingles3))\n",
    "print(\"Jaccard similarity between doc2 and doc3 is: \", CompareSets.jaccard_similarity(shingles2, shingles3))"
   ]
  }
 ],
 "metadata": {
  "kernelspec": {
   "display_name": "test",
   "language": "python",
   "name": "python3"
  },
  "language_info": {
   "codemirror_mode": {
    "name": "ipython",
    "version": 3
   },
   "file_extension": ".py",
   "mimetype": "text/x-python",
   "name": "python",
   "nbconvert_exporter": "python",
   "pygments_lexer": "ipython3",
   "version": "3.8.18"
  }
 },
 "nbformat": 4,
 "nbformat_minor": 2
}
