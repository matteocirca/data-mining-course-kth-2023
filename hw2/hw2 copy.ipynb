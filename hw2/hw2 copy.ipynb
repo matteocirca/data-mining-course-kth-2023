{
 "cells": [
  {
   "cell_type": "markdown",
   "metadata": {},
   "source": [
    "# Homework 2"
   ]
  },
  {
   "cell_type": "markdown",
   "metadata": {},
   "source": [
    "## Import libraries"
   ]
  },
  {
   "cell_type": "code",
   "execution_count": 109,
   "metadata": {},
   "outputs": [],
   "source": [
    "import pandas as pd\n",
    "import time\n",
    "import matplotlib.pyplot as plt\n",
    "\n",
    "from itertools import combinations"
   ]
  },
  {
   "cell_type": "markdown",
   "metadata": {},
   "source": [
    "## Functions"
   ]
  },
  {
   "cell_type": "code",
   "execution_count": 110,
   "metadata": {},
   "outputs": [],
   "source": [
    "items = set()\n",
    "\n",
    "\"\"\"\n",
    "Converts a list of transactions into a pandas dataframe with 0s and 1s depending on whether the item is in the transaction or not.\n",
    ":param transactions: List of transactions (each transaction is a list of items)\n",
    "\"\"\"\n",
    "def to_dataframe(transactions):\n",
    "    df = pd.DataFrame(columns=list(items))\n",
    "\n",
    "    print(\"Loading transactions into dataframe\")\n",
    "    \n",
    "    for transaction in transactions:\n",
    "        # Print progress\n",
    "        if transactions.index(transaction) % 1000 == 0:\n",
    "            print(\"Uploading transaction\", transactions.index(transaction))\n",
    "\n",
    "        df.loc[len(df)] = [1 if item in transaction else 0 for item in items]\n",
    "\n",
    "    return df\n",
    "    \n",
    "\"\"\"\n",
    "Loads the sample dataset\n",
    "\"\"\"\n",
    "def load_sample_dataset(real=False):\n",
    "    global items\n",
    "\n",
    "    # Real dataset\n",
    "    if real:\n",
    "        transactions = pd.read_csv('https://raw.githubusercontent.com/matteocirca/data-mining-course-kth-2023/main/hw2/data/dummy_transactions.dat', header=None)\n",
    "        # transactions = pd.read_csv('data/transactions.dat', header=None)\n",
    "        transactions = transactions.values.tolist()\n",
    "        _transactions = []\n",
    "\n",
    "        for transaction in transactions:\n",
    "            list_transaction = []\n",
    "            for item in transaction:\n",
    "                for single_item in item.rstrip().split(' '):\n",
    "                    list_transaction.append(single_item)\n",
    "                    items.add(single_item) # We iterate each element for each of the baskets and add it to the set of items\n",
    "            _transactions.append(list_transaction)\n",
    "    else:\n",
    "        # Dummy dataset\n",
    "        _transactions = [\n",
    "            ['Bread', 'Milk'],\n",
    "            ['Bread', 'Diapers', 'Beer', 'Eggs'],\n",
    "            ['Milk', 'Diapers', 'Beer', 'Cola'],\n",
    "            ['Bread', 'Milk', 'Diapers', 'Beer'],\n",
    "            ['Bread', 'Milk', 'Diapers', 'Cola']\n",
    "        ]\n",
    "        for transaction in _transactions:\n",
    "            for item in transaction:\n",
    "                items.add(item)\n",
    "\n",
    "    return _transactions\n",
    "\n",
    "\"\"\"\n",
    "Iterate through the transactions and count support for each itemset\n",
    ":param transactions: List of transactions (each transaction is a list of items)\n",
    ":return: Dictionary of itemsets with their support\n",
    "\"\"\"\n",
    "def count_itemset(transactions):\n",
    "    itemset_count = {}\n",
    "\n",
    "    print(\"Counting itemset support\")\n",
    "\n",
    "    for transaction in transactions:\n",
    "        # Print progress\n",
    "        if transactions.index(transaction) % 1000 == 0:\n",
    "            print(\"Transaction\", transactions.index(transaction))\n",
    "        # use combination to get all possible subsets of the itemset\n",
    "        for i in range(1, len(transaction)+1):\n",
    "            for item in combinations(transaction, i):\n",
    "                item = tuple(sorted(item))\n",
    "                if item in itemset_count:\n",
    "                    itemset_count[item] += 1\n",
    "                else:\n",
    "                    itemset_count[item] = 1\n",
    "\n",
    "    return itemset_count\n",
    "\n",
    "\"\"\"\n",
    "Apriori algorithm for finding frequent itemsets\n",
    ":param transactions: Dataframe of transactions (each transaction is a list of items)\n",
    ":param min_support: Minimum support threshold\n",
    ":return: Dictionary of frequent itemsets with their support\n",
    "\"\"\"\n",
    "def apriori(transactions, list_transactions, min_support, itemset_count=None):\n",
    "\n",
    "    L = dict() # Candidate k-itemsets\n",
    "\n",
    "    \"\"\"\n",
    "    Gets the possible itemsets for a given size. The function is optimized to avoid generating itemsets that are not possible, \n",
    "    meaning that if we have a 2-itemset and we now want to generate 3-itemsets, we only generate the ones that are possible, looking at the 1-itemsets\n",
    "    that are frequent\n",
    "    :param transactions: List of transactions (each transaction is a list of items)\n",
    "    :param size: Size of the itemsets to generate\n",
    "    \"\"\"\n",
    "    def get_new_itemsets(k):\n",
    "        next_itemsets = set()\n",
    "\n",
    "        if k == 1:\n",
    "            for elem in list(transactions.columns):\n",
    "                next_itemsets.add((elem, )) # Add tuple of one element\n",
    "        else:\n",
    "            # We augment the dimension of each of the previous k-1-frequent itemsets with each of the 1-frequent itemsets\n",
    "            for itemset in L[k-1].keys():\n",
    "                for item in L[1].keys():\n",
    "                    if item[0] not in list(itemset):\n",
    "                        new_itemset = tuple(sorted(list(itemset) + list(item)))\n",
    "                        next_itemsets.add(new_itemset)\n",
    "\n",
    "        return next_itemsets\n",
    "\n",
    "\n",
    "    \"\"\"\n",
    "    Calculates the support for each itemset in the list of itemsets. Counting how many times one itemset appears in all transactions.\n",
    "    :param itemsets: Set of itemsets (each itemset is a tuple of items)\n",
    "    :return: Dictionary of itemsets with their support\n",
    "    \"\"\"\n",
    "    # Function to calculate support for itemsets\n",
    "    def calculate_support(itemsets):\n",
    "        supports = {}\n",
    "\n",
    "        # For transactions (DataFrame) - version 1 faster\n",
    "        # for itemset in itemsets:\n",
    "        #     relevant_df = pd.DataFrame(transactions[list(itemset)]) # Select columns of the itemset\n",
    "        #     support_count = (relevant_df.sum(axis=1) == len(itemset)).sum() # Count how many rows have 1s everywhere (support)\n",
    "        #     supports[itemset] = support_count\n",
    "\n",
    "        # For itemset_count (dict) - version 2 slower\n",
    "        # for itemset in itemsets:\n",
    "        #     supports[itemset] = itemset_count[itemset] if itemset in itemset_count else 0\n",
    "\n",
    "        # scroll rows one by one and check if all items in itemset are present in the row - version 3\n",
    "        for transaction in list_transactions:\n",
    "            for itemset in itemsets:\n",
    "                if set(itemset).issubset(set(transaction)):\n",
    "                    supports[itemset] = supports.get(itemset, 0) + 1\n",
    "\n",
    "        return supports\n",
    "\n",
    "    # =========================================================================================\n",
    "    # Main part of the algorithm\n",
    "    k = 1  # Starting with 1-itemsets\n",
    "    L[k] = dict() # Frequent k-itemsets\n",
    "    next_itemsets = get_new_itemsets(k) # Candidate k-itemsets\n",
    "    # print(\"Next itemsets:\", next_itemsets)\n",
    "\n",
    "    # Loop through each level (single items, pairs, triples, etc.)\n",
    "    while next_itemsets:\n",
    "        print(\"k:\", k)\n",
    "        \n",
    "        itemset_support = calculate_support(next_itemsets) # Calculate support for each itemset\n",
    "        # print(\"Support:\", itemset_support)\n",
    "\n",
    "        L[k] = {itemset: support for itemset, support in itemset_support.items() if support >= min_support} # Select itemsets with support greater or equal to min_support\n",
    "        print(\"L[k]:\", L[k])\n",
    "\n",
    "        k += 1 # Next level\n",
    "        L[k] = dict()\n",
    "        next_itemsets = get_new_itemsets(k) # Generate candidate itemsets for the next level\n",
    "\n",
    "    return L\n",
    "\n"
   ]
  },
  {
   "cell_type": "markdown",
   "metadata": {},
   "source": [
    "## Runnning on the dataset - Task 1"
   ]
  },
  {
   "cell_type": "code",
   "execution_count": 111,
   "metadata": {},
   "outputs": [],
   "source": [
    "list_transactions = load_sample_dataset(real=False)"
   ]
  },
  {
   "cell_type": "markdown",
   "metadata": {},
   "source": [
    "We tried to improve performances by using a dictionary to quickly access an itemset and its support, but it was slower than the summation over the DataFrame."
   ]
  },
  {
   "cell_type": "code",
   "execution_count": 112,
   "metadata": {},
   "outputs": [],
   "source": [
    "# itemset_count = count_itemset(list_transactions)\n",
    "# itemset_count"
   ]
  },
  {
   "cell_type": "code",
   "execution_count": 113,
   "metadata": {},
   "outputs": [
    {
     "name": "stdout",
     "output_type": "stream",
     "text": [
      "Loading transactions into dataframe\n",
      "Uploading transaction 0\n"
     ]
    }
   ],
   "source": [
    "# Create and save dataset\n",
    "to_dataframe(list_transactions).to_csv('data/transactions.csv', index=False)"
   ]
  },
  {
   "cell_type": "code",
   "execution_count": 114,
   "metadata": {},
   "outputs": [
    {
     "data": {
      "text/html": [
       "<div>\n",
       "<style scoped>\n",
       "    .dataframe tbody tr th:only-of-type {\n",
       "        vertical-align: middle;\n",
       "    }\n",
       "\n",
       "    .dataframe tbody tr th {\n",
       "        vertical-align: top;\n",
       "    }\n",
       "\n",
       "    .dataframe thead th {\n",
       "        text-align: right;\n",
       "    }\n",
       "</style>\n",
       "<table border=\"1\" class=\"dataframe\">\n",
       "  <thead>\n",
       "    <tr style=\"text-align: right;\">\n",
       "      <th></th>\n",
       "      <th>Eggs</th>\n",
       "      <th>Cola</th>\n",
       "      <th>Diapers</th>\n",
       "      <th>Beer</th>\n",
       "      <th>Milk</th>\n",
       "      <th>Bread</th>\n",
       "    </tr>\n",
       "  </thead>\n",
       "  <tbody>\n",
       "    <tr>\n",
       "      <th>0</th>\n",
       "      <td>0</td>\n",
       "      <td>0</td>\n",
       "      <td>0</td>\n",
       "      <td>0</td>\n",
       "      <td>1</td>\n",
       "      <td>1</td>\n",
       "    </tr>\n",
       "    <tr>\n",
       "      <th>1</th>\n",
       "      <td>1</td>\n",
       "      <td>0</td>\n",
       "      <td>1</td>\n",
       "      <td>1</td>\n",
       "      <td>0</td>\n",
       "      <td>1</td>\n",
       "    </tr>\n",
       "    <tr>\n",
       "      <th>2</th>\n",
       "      <td>0</td>\n",
       "      <td>1</td>\n",
       "      <td>1</td>\n",
       "      <td>1</td>\n",
       "      <td>1</td>\n",
       "      <td>0</td>\n",
       "    </tr>\n",
       "    <tr>\n",
       "      <th>3</th>\n",
       "      <td>0</td>\n",
       "      <td>0</td>\n",
       "      <td>1</td>\n",
       "      <td>1</td>\n",
       "      <td>1</td>\n",
       "      <td>1</td>\n",
       "    </tr>\n",
       "    <tr>\n",
       "      <th>4</th>\n",
       "      <td>0</td>\n",
       "      <td>1</td>\n",
       "      <td>1</td>\n",
       "      <td>0</td>\n",
       "      <td>1</td>\n",
       "      <td>1</td>\n",
       "    </tr>\n",
       "  </tbody>\n",
       "</table>\n",
       "</div>"
      ],
      "text/plain": [
       "   Eggs  Cola  Diapers  Beer  Milk  Bread\n",
       "0     0     0        0     0     1      1\n",
       "1     1     0        1     1     0      1\n",
       "2     0     1        1     1     1      0\n",
       "3     0     0        1     1     1      1\n",
       "4     0     1        1     0     1      1"
      ]
     },
     "execution_count": 114,
     "metadata": {},
     "output_type": "execute_result"
    }
   ],
   "source": [
    "# Read dataset\n",
    "df_transactions = pd.read_csv('https://raw.githubusercontent.com/matteocirca/data-mining-course-kth-2023/main/hw2/data/transactions.csv')\n",
    "# df_transactions = pd.read_csv('data/transactions.csv')\n",
    "df_transactions"
   ]
  },
  {
   "cell_type": "code",
   "execution_count": 115,
   "metadata": {},
   "outputs": [
    {
     "data": {
      "text/plain": [
       "18"
      ]
     },
     "execution_count": 115,
     "metadata": {},
     "output_type": "execute_result"
    }
   ],
   "source": [
    "# Safety check: how many ones are there in the dataset?\n",
    "df_transactions.sum().sum()"
   ]
  },
  {
   "cell_type": "code",
   "execution_count": 116,
   "metadata": {},
   "outputs": [
    {
     "name": "stdout",
     "output_type": "stream",
     "text": [
      "4\n",
      "k: 1\n",
      "L[k]: {('Milk',): 4, ('Bread',): 4, ('Diapers',): 4, ('Beer',): 3, ('Cola',): 2}\n",
      "k: 2\n",
      "L[k]: {('Bread', 'Milk'): 3, ('Bread', 'Diapers'): 3, ('Beer', 'Diapers'): 3, ('Beer', 'Bread'): 2, ('Cola', 'Diapers'): 2, ('Beer', 'Milk'): 2, ('Cola', 'Milk'): 2, ('Diapers', 'Milk'): 3}\n",
      "k: 3\n",
      "L[k]: {('Beer', 'Bread', 'Diapers'): 2, ('Cola', 'Diapers', 'Milk'): 2, ('Beer', 'Diapers', 'Milk'): 2, ('Bread', 'Diapers', 'Milk'): 2}\n",
      "k: 4\n",
      "L[k]: {}\n",
      "L[1]: {('Milk',): 4, ('Bread',): 4, ('Diapers',): 4, ('Beer',): 3, ('Cola',): 2}\n",
      "L[2]: {('Bread', 'Milk'): 3, ('Bread', 'Diapers'): 3, ('Beer', 'Diapers'): 3, ('Beer', 'Bread'): 2, ('Cola', 'Diapers'): 2, ('Beer', 'Milk'): 2, ('Cola', 'Milk'): 2, ('Diapers', 'Milk'): 3}\n",
      "L[3]: {('Beer', 'Bread', 'Diapers'): 2, ('Cola', 'Diapers', 'Milk'): 2, ('Beer', 'Diapers', 'Milk'): 2, ('Bread', 'Diapers', 'Milk'): 2}\n",
      "L[4]: {}\n",
      "L[5]: {}\n"
     ]
    },
    {
     "data": {
      "text/plain": [
       "[]"
      ]
     },
     "execution_count": 116,
     "metadata": {},
     "output_type": "execute_result"
    }
   ],
   "source": [
    "timing = [] # Track timing for each dataset size\n",
    "\n",
    "support = [2, 3, 4, 5, 6, 7, 8, 9, 10] # Support thresholds to test\n",
    "sizes = [10, 100, 1000, 10000, 100000] # Dataset sizes to test\n",
    "\n",
    "\"\"\" for size in sizes:\n",
    "    print(\"Size:\", size)\n",
    "    # TODO: for s in support\n",
    "    start_time = time.time()\n",
    "    L = apriori(df_transactions[:size], support[8])\n",
    "    for k in L.keys():\n",
    "        print(\"L[{}]: {}\".format(k, L[k]))\n",
    "    end_time = time.time()\n",
    "    timing.append((size, end_time - start_time)) \"\"\"\n",
    "\n",
    "# print(\"Size:\", size)\n",
    "# TODO: for s in support\n",
    "# start_time = time.time()\n",
    "\n",
    "print(support[2])\n",
    "L = apriori(df_transactions, list_transactions, 2)\n",
    "for k in L.keys():\n",
    "    print(\"L[{}]: {}\".format(k, L[k]))\n",
    "\n",
    "# end_time = time.time()\n",
    "# timing.append((size, end_time - start_time))\n",
    "\n",
    "timing"
   ]
  },
  {
   "cell_type": "markdown",
   "metadata": {},
   "source": [
    "## Performance analysis"
   ]
  },
  {
   "cell_type": "markdown",
   "metadata": {},
   "source": [
    "As we can see time increases exponentially with the number of items in the itemset. This is due to the fact that the number of itemsets increases exponentially with the number of total items. We optimized the code by using a matrix of 0s and 1s instead of a Dictionary, but still the calculation of the support is the bottleneck of the algorithm."
   ]
  },
  {
   "cell_type": "code",
   "execution_count": 117,
   "metadata": {},
   "outputs": [
    {
     "data": {
      "text/plain": [
       "<matplotlib.image.AxesImage at 0x7f7c79b8e760>"
      ]
     },
     "execution_count": 117,
     "metadata": {},
     "output_type": "execute_result"
    },
    {
     "data": {
      "image/png": "[encoded data removed]",
      "text/plain": [
       "<Figure size 640x480 with 1 Axes>"
      ]
     },
     "metadata": {},
     "output_type": "display_data"
    }
   ],
   "source": [
    "# load the image img/timing.png and show it\n",
    "img = plt.imread('img/timing.png')\n",
    "plt.axis('off')\n",
    "plt.imshow(img)\n"
   ]
  },
  {
   "cell_type": "code",
   "execution_count": 118,
   "metadata": {},
   "outputs": [],
   "source": [
    "# Plot timing\n",
    "# plt.plot([x[0] for x in timing], [x[1] for x in timing])\n",
    "# plt.xlabel('Number of transactions')\n",
    "# plt.ylabel('Time (s)')\n",
    "# plt.show()\n"
   ]
  },
  {
   "cell_type": "markdown",
   "metadata": {},
   "source": [
    "## Runnning on the dataset - Task 2"
   ]
  },
  {
   "cell_type": "code",
   "execution_count": 119,
   "metadata": {},
   "outputs": [],
   "source": [
    "def remove_empty_keys():\n",
    "    for k in list(L.keys()):\n",
    "        if not L[k]:\n",
    "            del L[k]\n",
    "\n",
    "\"\"\"\n",
    "Generate association rules from frequent itemsets\n",
    ":param c: Confidence threshold for the association rules\n",
    "\"\"\"\n",
    "def generate_association_rules(c=0.75):\n",
    "\n",
    "    association_rules = []\n",
    "\n",
    "    # Generate association rules, starting from 2-itemsets\n",
    "    for i in range(2,len(L.keys())+1):\n",
    "        print(\"Generating association rules for L[{}]\".format(i))\n",
    "        for itemset in L[i]:\n",
    "            # print(\"itemset\",itemset)\n",
    "\n",
    "            for j in range(1,len(itemset)):\n",
    "                # Generate all possible j-sized combinations of the itemset\n",
    "                for combination in combinations(itemset, j):\n",
    "                    # print(\"Combination:\", combination)\n",
    "                    \n",
    "                    # A → I \\ A formula\n",
    "                    A = combination # I on the slides\n",
    "                    B = tuple(sorted(set(itemset) - set(A))) # j on the slides\n",
    "                    # print(\"A:\", A)\n",
    "                    # print(\"B:\", B)\n",
    "\n",
    "                    # Calculate confidence\n",
    "                    confidence = L[i][itemset]/L[len(A)][A]\n",
    "                    if(confidence >= c):\n",
    "                        print(\"Association rule: {} → {} with confidence {}\".format(A, B, confidence))\n",
    "                        print(\"===========================================\")\n",
    "                        association_rules.append((A,B,confidence))\n",
    "    return association_rules\n",
    "                        \n",
    "\n",
    "\"\"\" \n",
    "Finding the interesting association rules with a given threshold t (usually over 0.5)\n",
    ":param association_rules: List of association rules\n",
    ":param t: Threshold for the interest\n",
    "\"\"\"\n",
    "def find_interesting_association_rules(association_rules, t=0.5):\n",
    "    interesting_rules = []\n",
    "\n",
    "    for rule in association_rules:\n",
    "        confidence = rule[2]\n",
    "\n",
    "        # Extract the columns from the \"j\"\n",
    "        itemset = [column for column in rule[1]] # j on the slides \n",
    "        \n",
    "        # Calculate support of j\n",
    "        relevant_df = pd.DataFrame(df_transactions[list(itemset)]) # Select columns of the itemset\n",
    "        support_count = (relevant_df.sum(axis=1) == len(itemset)).sum() # Count how many rows have 1s everywhere (support)\n",
    "        # interest = confidence - Pr[j]\n",
    "        interest = confidence - support_count/len(df_transactions)\n",
    "\n",
    "        # Checking positive and negative interest\n",
    "        if(interest >= t or interest <= -t):\n",
    "            # print(confidence, support_count, len(df_transactions))\n",
    "            print(\"Association rule: {} → {} with interest {}\".format(rule[0], rule[1], interest))\n",
    "            print(\"===========================================\")\n",
    "            interesting_rules.append((rule[0],rule[1],confidence,interest))\n",
    "    \n",
    "    return interesting_rules\n",
    "  "
   ]
  },
  {
   "cell_type": "markdown",
   "metadata": {},
   "source": [
    "\n",
    "## (Our) Task 3: Finding association rules with interest above threshold"
   ]
  },
  {
   "cell_type": "code",
   "execution_count": 120,
   "metadata": {},
   "outputs": [
    {
     "name": "stdout",
     "output_type": "stream",
     "text": [
      "Generating association rules for L[2]\n",
      "Association rule: ('Bread',) → ('Milk',) with confidence 0.75\n",
      "===========================================\n",
      "Association rule: ('Milk',) → ('Bread',) with confidence 0.75\n",
      "===========================================\n",
      "Association rule: ('Bread',) → ('Diapers',) with confidence 0.75\n",
      "===========================================\n",
      "Association rule: ('Diapers',) → ('Bread',) with confidence 0.75\n",
      "===========================================\n",
      "Association rule: ('Beer',) → ('Diapers',) with confidence 1.0\n",
      "===========================================\n",
      "Association rule: ('Diapers',) → ('Beer',) with confidence 0.75\n",
      "===========================================\n",
      "Association rule: ('Cola',) → ('Diapers',) with confidence 1.0\n",
      "===========================================\n",
      "Association rule: ('Cola',) → ('Milk',) with confidence 1.0\n",
      "===========================================\n",
      "Association rule: ('Diapers',) → ('Milk',) with confidence 0.75\n",
      "===========================================\n",
      "Association rule: ('Milk',) → ('Diapers',) with confidence 0.75\n",
      "===========================================\n",
      "Generating association rules for L[3]\n",
      "Association rule: ('Beer', 'Bread') → ('Diapers',) with confidence 1.0\n",
      "===========================================\n",
      "Association rule: ('Cola',) → ('Diapers', 'Milk') with confidence 1.0\n",
      "===========================================\n",
      "Association rule: ('Cola', 'Diapers') → ('Milk',) with confidence 1.0\n",
      "===========================================\n",
      "Association rule: ('Cola', 'Milk') → ('Diapers',) with confidence 1.0\n",
      "===========================================\n",
      "Association rule: ('Beer', 'Milk') → ('Diapers',) with confidence 1.0\n",
      "===========================================\n"
     ]
    }
   ],
   "source": [
    "remove_empty_keys()\n",
    "association_rules = generate_association_rules()\n"
   ]
  },
  {
   "cell_type": "code",
   "execution_count": 121,
   "metadata": {},
   "outputs": [
    {
     "name": "stdout",
     "output_type": "stream",
     "text": [
      "Association rule: ('Cola',) → ('Diapers', 'Milk') with interest 0.4\n",
      "===========================================\n"
     ]
    }
   ],
   "source": [
    "interesting_association_rules = find_interesting_association_rules(association_rules, 0.3)"
   ]
  },
  {
   "cell_type": "markdown",
   "metadata": {},
   "source": [
    "## Evaluation of our Apriori-algorithm with built-in library"
   ]
  },
  {
   "cell_type": "markdown",
   "metadata": {},
   "source": [
    "We tried the built-in function implementation and it turned out to be faster. :)"
   ]
  },
  {
   "cell_type": "code",
   "execution_count": 122,
   "metadata": {},
   "outputs": [
    {
     "name": "stderr",
     "output_type": "stream",
     "text": [
      "/Users/matteocirca/opt/anaconda3/envs/test/lib/python3.8/site-packages/mlxtend/frequent_patterns/fpcommon.py:110: DeprecationWarning: DataFrames with non-bool types result in worse computationalperformance and their support might be discontinued in the future.Please use a DataFrame with bool type\n",
      "  warnings.warn(\n"
     ]
    },
    {
     "data": {
      "text/html": [
       "<div>\n",
       "<style scoped>\n",
       "    .dataframe tbody tr th:only-of-type {\n",
       "        vertical-align: middle;\n",
       "    }\n",
       "\n",
       "    .dataframe tbody tr th {\n",
       "        vertical-align: top;\n",
       "    }\n",
       "\n",
       "    .dataframe thead th {\n",
       "        text-align: right;\n",
       "    }\n",
       "</style>\n",
       "<table border=\"1\" class=\"dataframe\">\n",
       "  <thead>\n",
       "    <tr style=\"text-align: right;\">\n",
       "      <th></th>\n",
       "      <th>support</th>\n",
       "      <th>itemsets</th>\n",
       "    </tr>\n",
       "  </thead>\n",
       "  <tbody>\n",
       "    <tr>\n",
       "      <th>0</th>\n",
       "      <td>0.4</td>\n",
       "      <td>(Cola)</td>\n",
       "    </tr>\n",
       "    <tr>\n",
       "      <th>1</th>\n",
       "      <td>0.8</td>\n",
       "      <td>(Diapers)</td>\n",
       "    </tr>\n",
       "    <tr>\n",
       "      <th>2</th>\n",
       "      <td>0.6</td>\n",
       "      <td>(Beer)</td>\n",
       "    </tr>\n",
       "    <tr>\n",
       "      <th>3</th>\n",
       "      <td>0.8</td>\n",
       "      <td>(Milk)</td>\n",
       "    </tr>\n",
       "    <tr>\n",
       "      <th>4</th>\n",
       "      <td>0.8</td>\n",
       "      <td>(Bread)</td>\n",
       "    </tr>\n",
       "    <tr>\n",
       "      <th>5</th>\n",
       "      <td>0.4</td>\n",
       "      <td>(Diapers, Cola)</td>\n",
       "    </tr>\n",
       "    <tr>\n",
       "      <th>6</th>\n",
       "      <td>0.2</td>\n",
       "      <td>(Cola, Beer)</td>\n",
       "    </tr>\n",
       "    <tr>\n",
       "      <th>7</th>\n",
       "      <td>0.4</td>\n",
       "      <td>(Milk, Cola)</td>\n",
       "    </tr>\n",
       "    <tr>\n",
       "      <th>8</th>\n",
       "      <td>0.2</td>\n",
       "      <td>(Cola, Bread)</td>\n",
       "    </tr>\n",
       "    <tr>\n",
       "      <th>9</th>\n",
       "      <td>0.6</td>\n",
       "      <td>(Diapers, Beer)</td>\n",
       "    </tr>\n",
       "    <tr>\n",
       "      <th>10</th>\n",
       "      <td>0.6</td>\n",
       "      <td>(Milk, Diapers)</td>\n",
       "    </tr>\n",
       "    <tr>\n",
       "      <th>11</th>\n",
       "      <td>0.6</td>\n",
       "      <td>(Diapers, Bread)</td>\n",
       "    </tr>\n",
       "    <tr>\n",
       "      <th>12</th>\n",
       "      <td>0.4</td>\n",
       "      <td>(Milk, Beer)</td>\n",
       "    </tr>\n",
       "    <tr>\n",
       "      <th>13</th>\n",
       "      <td>0.4</td>\n",
       "      <td>(Bread, Beer)</td>\n",
       "    </tr>\n",
       "    <tr>\n",
       "      <th>14</th>\n",
       "      <td>0.6</td>\n",
       "      <td>(Milk, Bread)</td>\n",
       "    </tr>\n",
       "    <tr>\n",
       "      <th>15</th>\n",
       "      <td>0.2</td>\n",
       "      <td>(Diapers, Cola, Beer)</td>\n",
       "    </tr>\n",
       "    <tr>\n",
       "      <th>16</th>\n",
       "      <td>0.4</td>\n",
       "      <td>(Milk, Diapers, Cola)</td>\n",
       "    </tr>\n",
       "    <tr>\n",
       "      <th>17</th>\n",
       "      <td>0.2</td>\n",
       "      <td>(Diapers, Cola, Bread)</td>\n",
       "    </tr>\n",
       "    <tr>\n",
       "      <th>18</th>\n",
       "      <td>0.2</td>\n",
       "      <td>(Milk, Cola, Beer)</td>\n",
       "    </tr>\n",
       "    <tr>\n",
       "      <th>19</th>\n",
       "      <td>0.2</td>\n",
       "      <td>(Milk, Cola, Bread)</td>\n",
       "    </tr>\n",
       "    <tr>\n",
       "      <th>20</th>\n",
       "      <td>0.4</td>\n",
       "      <td>(Milk, Diapers, Beer)</td>\n",
       "    </tr>\n",
       "    <tr>\n",
       "      <th>21</th>\n",
       "      <td>0.4</td>\n",
       "      <td>(Diapers, Bread, Beer)</td>\n",
       "    </tr>\n",
       "    <tr>\n",
       "      <th>22</th>\n",
       "      <td>0.4</td>\n",
       "      <td>(Milk, Diapers, Bread)</td>\n",
       "    </tr>\n",
       "    <tr>\n",
       "      <th>23</th>\n",
       "      <td>0.2</td>\n",
       "      <td>(Milk, Bread, Beer)</td>\n",
       "    </tr>\n",
       "    <tr>\n",
       "      <th>24</th>\n",
       "      <td>0.2</td>\n",
       "      <td>(Milk, Diapers, Cola, Beer)</td>\n",
       "    </tr>\n",
       "    <tr>\n",
       "      <th>25</th>\n",
       "      <td>0.2</td>\n",
       "      <td>(Milk, Diapers, Cola, Bread)</td>\n",
       "    </tr>\n",
       "    <tr>\n",
       "      <th>26</th>\n",
       "      <td>0.2</td>\n",
       "      <td>(Milk, Diapers, Bread, Beer)</td>\n",
       "    </tr>\n",
       "  </tbody>\n",
       "</table>\n",
       "</div>"
      ],
      "text/plain": [
       "    support                      itemsets\n",
       "0       0.4                        (Cola)\n",
       "1       0.8                     (Diapers)\n",
       "2       0.6                        (Beer)\n",
       "3       0.8                        (Milk)\n",
       "4       0.8                       (Bread)\n",
       "5       0.4               (Diapers, Cola)\n",
       "6       0.2                  (Cola, Beer)\n",
       "7       0.4                  (Milk, Cola)\n",
       "8       0.2                 (Cola, Bread)\n",
       "9       0.6               (Diapers, Beer)\n",
       "10      0.6               (Milk, Diapers)\n",
       "11      0.6              (Diapers, Bread)\n",
       "12      0.4                  (Milk, Beer)\n",
       "13      0.4                 (Bread, Beer)\n",
       "14      0.6                 (Milk, Bread)\n",
       "15      0.2         (Diapers, Cola, Beer)\n",
       "16      0.4         (Milk, Diapers, Cola)\n",
       "17      0.2        (Diapers, Cola, Bread)\n",
       "18      0.2            (Milk, Cola, Beer)\n",
       "19      0.2           (Milk, Cola, Bread)\n",
       "20      0.4         (Milk, Diapers, Beer)\n",
       "21      0.4        (Diapers, Bread, Beer)\n",
       "22      0.4        (Milk, Diapers, Bread)\n",
       "23      0.2           (Milk, Bread, Beer)\n",
       "24      0.2   (Milk, Diapers, Cola, Beer)\n",
       "25      0.2  (Milk, Diapers, Cola, Bread)\n",
       "26      0.2  (Milk, Diapers, Bread, Beer)"
      ]
     },
     "execution_count": 122,
     "metadata": {},
     "output_type": "execute_result"
    }
   ],
   "source": [
    "# Import apriori algorithm and find frequent itesmets from the transactions\n",
    "from mlxtend.frequent_patterns import apriori\n",
    "\n",
    "df_transactions = df_transactions.iloc[:,1:]\n",
    "frequent_itemsets = apriori(df_transactions, min_support=0.1, use_colnames=True)\n",
    "frequent_itemsets"
   ]
  }
 ],
 "metadata": {
  "kernelspec": {
   "display_name": "myenv2",
   "language": "python",
   "name": "python3"
  },
  "language_info": {
   "codemirror_mode": {
    "name": "ipython",
    "version": 3
   },
   "file_extension": ".py",
   "mimetype": "text/x-python",
   "name": "python",
   "nbconvert_exporter": "python",
   "pygments_lexer": "ipython3",
   "version": "3.8.18"
  }
 },
 "nbformat": 4,
 "nbformat_minor": 2
}
