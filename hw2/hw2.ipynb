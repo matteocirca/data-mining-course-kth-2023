{
 "cells": [
  {
   "cell_type": "code",
   "execution_count": 28,
   "metadata": {},
   "outputs": [
    {
     "name": "stdout",
     "output_type": "stream",
     "text": [
      "Before: {('Diapers', 'Eggs'), ('Milk', 'Diapers'), ('Diapers', 'Cola'), ('Bread', 'Diapers'), ('Bread', 'Eggs'), ('Bread', 'Cola'), ('Bread', 'Beer'), ('Milk', 'Cola'), ('Beer', 'Cola'), ('Milk', 'Beer'), ('Beer', 'Eggs'), ('Bread', 'Milk'), ('Diapers', 'Beer')}\n",
      "k-frequent sets: 2 {('Milk', 'Diapers'): 3, ('Diapers', 'Cola'): 2, ('Bread', 'Diapers'): 3, ('Bread', 'Beer'): 2, ('Milk', 'Cola'): 2, ('Milk', 'Beer'): 2, ('Bread', 'Milk'): 3, ('Diapers', 'Beer'): 3}\n",
      "k-frequent sets: 3 {('Milk', 'Diapers', 'Cola'): 2, ('Bread', 'Milk', 'Diapers'): 2, ('Milk', 'Diapers', 'Beer'): 2, ('Bread', 'Diapers', 'Beer'): 2}\n",
      "k-frequent sets: 4 {}\n"
     ]
    }
   ],
   "source": [
    "import pandas as pd\n",
    "from itertools import combinations\n",
    "from collections import defaultdict\n",
    "import pandas as pd\n",
    "import time\n",
    "import matplotlib.pyplot as plt\n",
    "\n",
    "def load_sample_dataset():\n",
    "    \"\"\"\n",
    "    Load a sample dataset for demonstration purposes.\n",
    "    \n",
    "    Each list within the main list represents a transaction with several items.\n",
    "    \"\"\"\n",
    "    transactions = [\n",
    "        ['Bread', 'Milk'],\n",
    "        ['Bread', 'Diapers', 'Beer', 'Eggs'],\n",
    "        ['Milk', 'Diapers', 'Beer', 'Cola'],\n",
    "        ['Bread', 'Milk', 'Diapers', 'Beer'],\n",
    "        ['Bread', 'Milk', 'Diapers', 'Cola']\n",
    "    ]\n",
    "    #Import dataset from data folder where each row is a transaction\n",
    "    dataset = pd.read_csv('./data/transactions.dat', header=None)\n",
    "\n",
    "   # dataset = dataset.values.tolist()\n",
    "    return transactions\n",
    "\n",
    "def apriori(transactions, min_support):\n",
    "    \"\"\"\n",
    "    Implements the A-Priori algorithm for finding frequent itemsets.\n",
    "\n",
    "    :param transactions: List of transactions (each transaction is a list of items)\n",
    "    :param min_support: Minimum support threshold\n",
    "    :return: Dictionary of frequent itemsets with their support\n",
    "    \"\"\"\n",
    "    timings = []\n",
    "    start_time = time.time()\n",
    "    # Function to get itemsets of a given size\n",
    "    def get_itemsets(transactions, size):\n",
    "        itemsets = set()\n",
    "        for transaction in transactions:\n",
    "            # Generate all combinations of items in the transaction of the given size\n",
    "            for itemset in combinations(transaction, size): #The question is... Can we use this:D? https://docs.python.org/3/library/itertools.html#itertools.combinations\n",
    "                itemsets.add(itemset)\n",
    "        return itemsets\n",
    "\n",
    "    def calculate_support(transactions, itemsets):\n",
    "        support = defaultdict(int) # {} was not working for me, so I used defaultdict\n",
    "        # Convert transactions to sets once at the beginning because it will be used several times and is more efficient\n",
    "        set_transactions = [set(transaction) for transaction in transactions]\n",
    "\n",
    "        for itemset in itemsets:\n",
    "            set_itemset = set(itemset)\n",
    "            itemset_len = len(set_itemset)\n",
    "            for transaction in set_transactions:\n",
    "                # Early exit if the transaction is smaller than the itemset (improves performance) because itemset ('Diapers', 'Beer', 'Cola') can't be subset of\n",
    "                # this transaction {'Milk', 'Bread'}  \n",
    "                if len(transaction) < itemset_len:\n",
    "                   # print(\"Transaction is smaller than itemset\", transaction, itemset)\n",
    "                    continue\n",
    "                if set_itemset.issubset(transaction):\n",
    "                    support[itemset] += 1\n",
    "        return support\n",
    "\n",
    "\n",
    "    #Main part of the algorithm\n",
    "    all_frequent_itemsets = dict()\n",
    "    k = 2  # Starting with individual items, later increasing he k for pairs, triples, etc.\n",
    "    frequent_itemsets = get_itemsets(transactions, k)\n",
    "    \n",
    "    print(\"Before:\", frequent_itemsets)\n",
    "    # Loop through each level (single items, pairs, triples, etc.)\n",
    "    while frequent_itemsets:\n",
    "        # Calculate support for each itemset\n",
    "\n",
    "\n",
    "        itemset_support = calculate_support(transactions, frequent_itemsets)\n",
    "        # Select itemsets with support greater or equal to min_support\n",
    "        frequent_itemsets = dict(filter(lambda item: item[1] >= min_support, itemset_support.items())) #Filter is more efficient than simple iteration\n",
    "        print(\"k-frequent sets:\",k, frequent_itemsets)\n",
    "        # Add the frequent itemsets to the final dictionary\n",
    "        all_frequent_itemsets.update({itemset: itemset_support[itemset] for itemset in frequent_itemsets})\n",
    "        # Increase the itemset size for the next loop iteration\n",
    "        \n",
    "        end_time = time.time()  # End timing\n",
    "        timings.append((k, end_time - start_time))  # Record the time taken for this iteration\n",
    "\n",
    "        k += 1\n",
    "        frequent_itemsets = get_itemsets(transactions, k)\n",
    "\n",
    "    return all_frequent_itemsets, timings\n",
    "\n",
    "sample_transactions = load_sample_dataset()\n",
    "min_support = 2  #  threshold\n",
    "frequent_itemsets, timings = apriori(sample_transactions, min_support)\n",
    "\n"
   ]
  },
  {
   "cell_type": "code",
   "execution_count": 29,
   "metadata": {},
   "outputs": [
    {
     "name": "stdout",
     "output_type": "stream",
     "text": [
      "{('Milk', 'Diapers'): 3, ('Diapers', 'Cola'): 2, ('Bread', 'Diapers'): 3, ('Bread', 'Beer'): 2, ('Milk', 'Cola'): 2, ('Milk', 'Beer'): 2, ('Bread', 'Milk'): 3, ('Diapers', 'Beer'): 3, ('Milk', 'Diapers', 'Cola'): 2, ('Bread', 'Milk', 'Diapers'): 2, ('Milk', 'Diapers', 'Beer'): 2, ('Bread', 'Diapers', 'Beer'): 2}\n"
     ]
    }
   ],
   "source": [
    "# Print the results\n",
    "print(frequent_itemsets)"
   ]
  },
  {
   "cell_type": "code",
   "execution_count": 30,
   "metadata": {},
   "outputs": [
    {
     "name": "stdout",
     "output_type": "stream",
     "text": [
      " k  Time (seconds)\n",
      " 2             0.0\n",
      " 3             0.0\n",
      " 4             0.0\n"
     ]
    },
    {
     "data": {
      "image/png": "[encoded data removed]",
      "text/plain": [
       "<Figure size 640x480 with 1 Axes>"
      ]
     },
     "metadata": {},
     "output_type": "display_data"
    }
   ],
   "source": [
    "timings_df = pd.DataFrame(timings, columns=['k', 'Time (seconds)'])\n",
    "\n",
    "\n",
    "print(timings_df.to_string(index=False))\n",
    "# Plotting\n",
    "timings_df.plot(x='k', y='Time (seconds)', kind='line', marker='o', title='Apriori Algorithm Performance by k')\n",
    "plt.xlabel('k (Size of Itemsets)')\n",
    "plt.ylabel('Time (seconds)')\n",
    "plt.grid(True)\n",
    "plt.show()"
   ]
  },
  {
   "cell_type": "code",
   "execution_count": null,
   "metadata": {},
   "outputs": [],
   "source": []
  },
  {
   "cell_type": "code",
   "execution_count": null,
   "metadata": {},
   "outputs": [],
   "source": []
  }
 ],
 "metadata": {
  "kernelspec": {
   "display_name": "myenv2",
   "language": "python",
   "name": "python3"
  },
  "language_info": {
   "codemirror_mode": {
    "name": "ipython",
    "version": 3
   },
   "file_extension": ".py",
   "mimetype": "text/x-python",
   "name": "python",
   "nbconvert_exporter": "python",
   "pygments_lexer": "ipython3",
   "version": "3.7.16"
  }
 },
 "nbformat": 4,
 "nbformat_minor": 2
}
