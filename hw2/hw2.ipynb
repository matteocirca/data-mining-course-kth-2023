{
 "cells": [
  {
   "cell_type": "markdown",
   "metadata": {},
   "source": [
    "# Homework 2"
   ]
  },
  {
   "cell_type": "markdown",
   "metadata": {},
   "source": [
    "## Import libraries"
   ]
  },
  {
   "cell_type": "code",
   "execution_count": 1,
   "metadata": {},
   "outputs": [],
   "source": [
    "import pandas as pd\n",
    "import time\n",
    "import matplotlib.pyplot as plt"
   ]
  },
  {
   "cell_type": "markdown",
   "metadata": {},
   "source": [
    "## Functions"
   ]
  },
  {
   "cell_type": "code",
   "execution_count": 2,
   "metadata": {},
   "outputs": [],
   "source": [
    "items = set()\n",
    "\n",
    "\"\"\"\n",
    "Converts a list of transactions into a pandas dataframe with 0s and 1s depending on whether the item is in the transaction or not.\n",
    ":param transactions: List of transactions (each transaction is a list of items)\n",
    "\"\"\"\n",
    "def to_dataframe(transactions):\n",
    "    df = pd.DataFrame(columns=list(items))\n",
    "    \n",
    "    for transaction in transactions:\n",
    "        # Print progress\n",
    "        if transactions.index(transaction) % 1000 == 0:\n",
    "            print(\"Uploading transaction\", transactions.index(transaction))\n",
    "\n",
    "        df.loc[len(df)] = [1 if item in transaction else 0 for item in items]\n",
    "\n",
    "    return df\n",
    "    \n",
    "\"\"\"\n",
    "Loads the sample dataset\n",
    "\"\"\"\n",
    "def load_sample_dataset(real=False):\n",
    "    global items\n",
    "\n",
    "    # Real dataset\n",
    "    if real:\n",
    "        transactions = pd.read_csv('data/dummy_transactions.dat', header=None)\n",
    "        transactions = transactions.values.tolist()\n",
    "        _transactions = []\n",
    "\n",
    "        for transaction in transactions:\n",
    "            list_transaction = []\n",
    "            for item in transaction:\n",
    "                for single_item in item.rstrip().split(' '):\n",
    "                    list_transaction.append(single_item)\n",
    "                    items.add(single_item) # We iterate each element for each of the baskets and add it to the set of items\n",
    "            _transactions.append(list_transaction)\n",
    "    else:\n",
    "        # Dummy dataset\n",
    "        _transactions = [\n",
    "            ['Bread', 'Milk'],\n",
    "            ['Bread', 'Diapers', 'Beer', 'Eggs'],\n",
    "            ['Milk', 'Diapers', 'Beer', 'Cola'],\n",
    "            ['Bread', 'Milk', 'Diapers', 'Beer'],\n",
    "            ['Bread', 'Milk', 'Diapers', 'Cola']\n",
    "        ]\n",
    "        for transaction in _transactions:\n",
    "            for item in transaction:\n",
    "                items.add(item)\n",
    "\n",
    "    return _transactions\n",
    "\n",
    "\"\"\"\n",
    "Apriori algorithm for finding frequent itemsets\n",
    ":param transactions: Dataframe of transactions (each transaction is a list of items)\n",
    ":param min_support: Minimum support threshold\n",
    ":return: Dictionary of frequent itemsets with their support\n",
    "\"\"\"\n",
    "def apriori(transactions, min_support):\n",
    "\n",
    "    L = dict() # Candidate k-itemsets\n",
    "\n",
    "    # Function to get itemsets of a given size\n",
    "    \"\"\"\n",
    "    Gets the possible itemsets for a given size\n",
    "    :param transactions: List of transactions (each transaction is a list of items)\n",
    "    :param size: Size of the itemsets to generate\n",
    "    \"\"\"\n",
    "    def get_new_itemsets(k):\n",
    "        next_itemsets = set()\n",
    "\n",
    "        if k == 1:\n",
    "            for elem in list(transactions.columns):\n",
    "                next_itemsets.add((elem, )) # Add tuple of one element\n",
    "        else:\n",
    "            # We augment the dimension of each of the previous k-1-frequent itemsets with each of the 1-frequent itemsets\n",
    "            for itemset in L[k-1].keys():\n",
    "                for item in L[1].keys():\n",
    "                    if item[0] not in list(itemset):\n",
    "                        new_itemset = tuple(sorted(list(itemset) + list(item)))\n",
    "                        next_itemsets.add(new_itemset)\n",
    "\n",
    "        return next_itemsets\n",
    "\n",
    "\n",
    "    \"\"\"\n",
    "    Calculates the support for each itemset in the list of itemsets. Counting how many times one itemset appears in all transactions.\n",
    "    :param itemsets: Set of itemsets (each itemset is a tuple of items)\n",
    "    :return: Dictionary of itemsets with their support\n",
    "    \"\"\"\n",
    "    # Function to calculate support for itemsets\n",
    "    def calculate_support(itemsets):\n",
    "        supports = {}\n",
    "\n",
    "        for itemset in itemsets:\n",
    "            relevant_df = pd.DataFrame(transactions[list(itemset)]) # Select columns of the itemset\n",
    "            support_count = (relevant_df.sum(axis=1) == len(itemset)).sum() # Count how many rows have 1s everywhere (support)\n",
    "            supports[itemset] = support_count\n",
    "\n",
    "        return supports\n",
    "\n",
    "    # =========================================================================================\n",
    "    # Main part of the algorithm\n",
    "    k = 1  # Starting with 1-itemsets\n",
    "    L[k] = dict() # Frequent k-itemsets\n",
    "    next_itemsets = get_new_itemsets(k) # Candidate k-itemsets\n",
    "    # print(\"Next itemsets:\", next_itemsets)\n",
    "\n",
    "    # Loop through each level (single items, pairs, triples, etc.)\n",
    "    while next_itemsets:\n",
    "        # print(\"k:\", k)\n",
    "        \n",
    "        itemset_support = calculate_support(next_itemsets) # Calculate support for each itemset\n",
    "        # print(\"Support:\", itemset_support)\n",
    "\n",
    "        L[k] = {itemset: support for itemset, support in itemset_support.items() if support >= min_support} # Select itemsets with support greater or equal to min_support\n",
    "        # print(\"L[k]:\", L[k])\n",
    "\n",
    "        k += 1 # Next level\n",
    "        L[k] = dict()\n",
    "        next_itemsets = get_new_itemsets(k) # Generate candidate itemsets for the next level\n",
    "\n",
    "    return L\n",
    "\n"
   ]
  },
  {
   "cell_type": "markdown",
   "metadata": {},
   "source": [
    "## Runnning on the dataset"
   ]
  },
  {
   "cell_type": "code",
   "execution_count": 3,
   "metadata": {},
   "outputs": [
    {
     "name": "stdout",
     "output_type": "stream",
     "text": [
      "Uploading transaction 0\n"
     ]
    }
   ],
   "source": [
    "# Create and save dataset\n",
    "to_dataframe(load_sample_dataset(real=False)).to_csv('data/transactions.csv', index=False)"
   ]
  },
  {
   "cell_type": "code",
   "execution_count": 4,
   "metadata": {},
   "outputs": [
    {
     "data": {
      "text/html": [
       "<div>\n",
       "<style scoped>\n",
       "    .dataframe tbody tr th:only-of-type {\n",
       "        vertical-align: middle;\n",
       "    }\n",
       "\n",
       "    .dataframe tbody tr th {\n",
       "        vertical-align: top;\n",
       "    }\n",
       "\n",
       "    .dataframe thead th {\n",
       "        text-align: right;\n",
       "    }\n",
       "</style>\n",
       "<table border=\"1\" class=\"dataframe\">\n",
       "  <thead>\n",
       "    <tr style=\"text-align: right;\">\n",
       "      <th></th>\n",
       "      <th>Milk</th>\n",
       "      <th>Bread</th>\n",
       "      <th>Beer</th>\n",
       "      <th>Eggs</th>\n",
       "      <th>Cola</th>\n",
       "      <th>Diapers</th>\n",
       "    </tr>\n",
       "  </thead>\n",
       "  <tbody>\n",
       "    <tr>\n",
       "      <th>0</th>\n",
       "      <td>1</td>\n",
       "      <td>1</td>\n",
       "      <td>0</td>\n",
       "      <td>0</td>\n",
       "      <td>0</td>\n",
       "      <td>0</td>\n",
       "    </tr>\n",
       "    <tr>\n",
       "      <th>1</th>\n",
       "      <td>0</td>\n",
       "      <td>1</td>\n",
       "      <td>1</td>\n",
       "      <td>1</td>\n",
       "      <td>0</td>\n",
       "      <td>1</td>\n",
       "    </tr>\n",
       "    <tr>\n",
       "      <th>2</th>\n",
       "      <td>1</td>\n",
       "      <td>0</td>\n",
       "      <td>1</td>\n",
       "      <td>0</td>\n",
       "      <td>1</td>\n",
       "      <td>1</td>\n",
       "    </tr>\n",
       "    <tr>\n",
       "      <th>3</th>\n",
       "      <td>1</td>\n",
       "      <td>1</td>\n",
       "      <td>1</td>\n",
       "      <td>0</td>\n",
       "      <td>0</td>\n",
       "      <td>1</td>\n",
       "    </tr>\n",
       "    <tr>\n",
       "      <th>4</th>\n",
       "      <td>1</td>\n",
       "      <td>1</td>\n",
       "      <td>0</td>\n",
       "      <td>0</td>\n",
       "      <td>1</td>\n",
       "      <td>1</td>\n",
       "    </tr>\n",
       "  </tbody>\n",
       "</table>\n",
       "</div>"
      ],
      "text/plain": [
       "   Milk  Bread  Beer  Eggs  Cola  Diapers\n",
       "0     1      1     0     0     0        0\n",
       "1     0      1     1     1     0        1\n",
       "2     1      0     1     0     1        1\n",
       "3     1      1     1     0     0        1\n",
       "4     1      1     0     0     1        1"
      ]
     },
     "execution_count": 4,
     "metadata": {},
     "output_type": "execute_result"
    }
   ],
   "source": [
    "# Read dataset\n",
    "df_transactions = pd.read_csv('data/transactions.csv')\n",
    "df_transactions"
   ]
  },
  {
   "cell_type": "code",
   "execution_count": 5,
   "metadata": {},
   "outputs": [
    {
     "data": {
      "text/plain": [
       "18"
      ]
     },
     "execution_count": 5,
     "metadata": {},
     "output_type": "execute_result"
    }
   ],
   "source": [
    "# Safety check: how many ones are there in the dataset?\n",
    "df_transactions.sum().sum()"
   ]
  },
  {
   "cell_type": "code",
   "execution_count": 6,
   "metadata": {},
   "outputs": [
    {
     "name": "stdout",
     "output_type": "stream",
     "text": [
      "Size: 10\n",
      "L[1]: {('Bread',): 4, ('Milk',): 4, ('Beer',): 3, ('Cola',): 2, ('Diapers',): 4}\n",
      "L[2]: {('Bread', 'Milk'): 3, ('Cola', 'Diapers'): 2, ('Diapers', 'Milk'): 3, ('Beer', 'Diapers'): 3, ('Beer', 'Bread'): 2, ('Cola', 'Milk'): 2, ('Bread', 'Diapers'): 3, ('Beer', 'Milk'): 2}\n",
      "L[3]: {('Beer', 'Diapers', 'Milk'): 2, ('Cola', 'Diapers', 'Milk'): 2, ('Beer', 'Bread', 'Diapers'): 2, ('Bread', 'Diapers', 'Milk'): 2}\n",
      "L[4]: {}\n",
      "L[5]: {}\n",
      "Size: 100\n",
      "L[1]: {('Bread',): 4, ('Milk',): 4, ('Beer',): 3, ('Cola',): 2, ('Diapers',): 4}\n",
      "L[2]: {('Bread', 'Milk'): 3, ('Cola', 'Diapers'): 2, ('Diapers', 'Milk'): 3, ('Beer', 'Diapers'): 3, ('Beer', 'Bread'): 2, ('Cola', 'Milk'): 2, ('Bread', 'Diapers'): 3, ('Beer', 'Milk'): 2}\n",
      "L[3]: {('Beer', 'Diapers', 'Milk'): 2, ('Cola', 'Diapers', 'Milk'): 2, ('Beer', 'Bread', 'Diapers'): 2, ('Bread', 'Diapers', 'Milk'): 2}\n",
      "L[4]: {}\n",
      "L[5]: {}\n",
      "Size: 1000\n",
      "L[1]: {('Bread',): 4, ('Milk',): 4, ('Beer',): 3, ('Cola',): 2, ('Diapers',): 4}\n",
      "L[2]: {('Bread', 'Milk'): 3, ('Cola', 'Diapers'): 2, ('Diapers', 'Milk'): 3, ('Beer', 'Diapers'): 3, ('Beer', 'Bread'): 2, ('Cola', 'Milk'): 2, ('Bread', 'Diapers'): 3, ('Beer', 'Milk'): 2}\n",
      "L[3]: {('Beer', 'Diapers', 'Milk'): 2, ('Cola', 'Diapers', 'Milk'): 2, ('Beer', 'Bread', 'Diapers'): 2, ('Bread', 'Diapers', 'Milk'): 2}\n",
      "L[4]: {}\n",
      "L[5]: {}\n",
      "Size: 2000\n",
      "L[1]: {('Bread',): 4, ('Milk',): 4, ('Beer',): 3, ('Cola',): 2, ('Diapers',): 4}\n",
      "L[2]: {('Bread', 'Milk'): 3, ('Cola', 'Diapers'): 2, ('Diapers', 'Milk'): 3, ('Beer', 'Diapers'): 3, ('Beer', 'Bread'): 2, ('Cola', 'Milk'): 2, ('Bread', 'Diapers'): 3, ('Beer', 'Milk'): 2}\n",
      "L[3]: {('Beer', 'Diapers', 'Milk'): 2, ('Cola', 'Diapers', 'Milk'): 2, ('Beer', 'Bread', 'Diapers'): 2, ('Bread', 'Diapers', 'Milk'): 2}\n",
      "L[4]: {}\n",
      "L[5]: {}\n",
      "Size: 3000\n",
      "L[1]: {('Bread',): 4, ('Milk',): 4, ('Beer',): 3, ('Cola',): 2, ('Diapers',): 4}\n",
      "L[2]: {('Bread', 'Milk'): 3, ('Cola', 'Diapers'): 2, ('Diapers', 'Milk'): 3, ('Beer', 'Diapers'): 3, ('Beer', 'Bread'): 2, ('Cola', 'Milk'): 2, ('Bread', 'Diapers'): 3, ('Beer', 'Milk'): 2}\n",
      "L[3]: {('Beer', 'Diapers', 'Milk'): 2, ('Cola', 'Diapers', 'Milk'): 2, ('Beer', 'Bread', 'Diapers'): 2, ('Bread', 'Diapers', 'Milk'): 2}\n",
      "L[4]: {}\n",
      "L[5]: {}\n",
      "Size: 4000\n",
      "L[1]: {('Bread',): 4, ('Milk',): 4, ('Beer',): 3, ('Cola',): 2, ('Diapers',): 4}\n",
      "L[2]: {('Bread', 'Milk'): 3, ('Cola', 'Diapers'): 2, ('Diapers', 'Milk'): 3, ('Beer', 'Diapers'): 3, ('Beer', 'Bread'): 2, ('Cola', 'Milk'): 2, ('Bread', 'Diapers'): 3, ('Beer', 'Milk'): 2}\n",
      "L[3]: {('Beer', 'Diapers', 'Milk'): 2, ('Cola', 'Diapers', 'Milk'): 2, ('Beer', 'Bread', 'Diapers'): 2, ('Bread', 'Diapers', 'Milk'): 2}\n",
      "L[4]: {}\n",
      "L[5]: {}\n"
     ]
    },
    {
     "data": {
      "text/plain": [
       "[(10, 0.017467737197875977),\n",
       " (100, 0.01502084732055664),\n",
       " (1000, 0.01516270637512207),\n",
       " (2000, 0.014358043670654297),\n",
       " (3000, 0.014736175537109375),\n",
       " (4000, 0.014210224151611328)]"
      ]
     },
     "execution_count": 6,
     "metadata": {},
     "output_type": "execute_result"
    }
   ],
   "source": [
    "timing = [] # Track timing for each dataset size\n",
    "\n",
    "support = [2, 3, 4, 5, 6, 7, 8, 9, 10] # Support thresholds to test\n",
    "sizes = [10, 100, 1000, 2000, 3000, 4000]\n",
    "\n",
    "for size in sizes:\n",
    "    print(\"Size:\", size)\n",
    "    # TODO: for s in support\n",
    "    start_time = time.time()\n",
    "    L = apriori(df_transactions[:size], support[0])\n",
    "    for k in L.keys():\n",
    "        print(\"L[{}]: {}\".format(k, L[k]))\n",
    "    end_time = time.time()\n",
    "    timing.append((size, end_time - start_time))\n",
    "\n",
    "timing"
   ]
  },
  {
   "cell_type": "code",
   "execution_count": 7,
   "metadata": {},
   "outputs": [
    {
     "data": {
      "image/png": "[encoded data removed]",
      "text/plain": [
       "<Figure size 640x480 with 1 Axes>"
      ]
     },
     "metadata": {},
     "output_type": "display_data"
    }
   ],
   "source": [
    "# Plot timing\n",
    "plt.plot([x[0] for x in timing], [x[1] for x in timing])\n",
    "plt.xlabel('Number of transactions')\n",
    "plt.ylabel('Time (s)')\n",
    "plt.show()\n"
   ]
  },
  {
   "cell_type": "code",
   "execution_count": null,
   "metadata": {},
   "outputs": [],
   "source": []
  }
 ],
 "metadata": {
  "kernelspec": {
   "display_name": "myenv2",
   "language": "python",
   "name": "python3"
  },
  "language_info": {
   "codemirror_mode": {
    "name": "ipython",
    "version": 3
   },
   "file_extension": ".py",
   "mimetype": "text/x-python",
   "name": "python",
   "nbconvert_exporter": "python",
   "pygments_lexer": "ipython3",
   "version": "3.8.18"
  }
 },
 "nbformat": 4,
 "nbformat_minor": 2
}
