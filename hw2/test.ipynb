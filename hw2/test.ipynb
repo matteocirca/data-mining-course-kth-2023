{
 "cells": [
  {
   "cell_type": "code",
   "execution_count": 77,
   "metadata": {},
   "outputs": [],
   "source": [
    "import pandas as pd\n",
    "L = dict()\n",
    "dataframe= pd.DataFrame(columns=['A', 'B', 'C','D','E'])\n",
    "L[1] = set(['A', 'B', 'C','D'])"
   ]
  },
  {
   "cell_type": "code",
   "execution_count": 78,
   "metadata": {},
   "outputs": [],
   "source": [
    "def get_new_itemsets(k):\n",
    "    next_itemsets = set()\n",
    "\n",
    "    if k == 1:\n",
    "        for elem in list(dataframe.columns):\n",
    "           next_itemsets.add(tuple(elem, ))\n",
    "    else:\n",
    "        # We augment the dimension of the previous k-1-frequent itemsets with the 1-frequent itemsets\n",
    "        for itemset in L[k-1]:\n",
    "            for item in L[1]:\n",
    "                if item not in itemset:\n",
    "                    new_itemset = tuple(sorted(list(itemset) + [item]))\n",
    "                    next_itemsets.add(new_itemset)\n",
    "\n",
    "    return next_itemsets"
   ]
  },
  {
   "cell_type": "code",
   "execution_count": 79,
   "metadata": {},
   "outputs": [
    {
     "name": "stdout",
     "output_type": "stream",
     "text": [
      "{'C', 'D', 'A', 'B'}\n",
      "Series([], Name: C, dtype: object)\n",
      "Series([], Name: D, dtype: object)\n",
      "Series([], Name: A, dtype: object)\n",
      "Series([], Name: B, dtype: object)\n",
      "{('B', 'D'), ('C', 'D'), ('A', 'C'), ('A', 'B'), ('B', 'C'), ('A', 'D')}\n"
     ]
    },
    {
     "data": {
      "text/plain": [
       "{('A', 'B', 'C'), ('A', 'B', 'D'), ('A', 'C', 'D'), ('B', 'C', 'D')}"
      ]
     },
     "execution_count": 79,
     "metadata": {},
     "output_type": "execute_result"
    }
   ],
   "source": [
    "L[2] = get_new_itemsets(2)\n",
    "print(L[1])\n",
    "for elem in L[1] :\n",
    "    print(dataframe[elem])\n",
    "print(L[2])\n",
    "get_new_itemsets(3)"
   ]
  }
 ],
 "metadata": {
  "kernelspec": {
   "display_name": "myenv2",
   "language": "python",
   "name": "python3"
  },
  "language_info": {
   "codemirror_mode": {
    "name": "ipython",
    "version": 3
   },
   "file_extension": ".py",
   "mimetype": "text/x-python",
   "name": "python",
   "nbconvert_exporter": "python",
   "pygments_lexer": "ipython3",
   "version": "3.7.16"
  }
 },
 "nbformat": 4,
 "nbformat_minor": 2
}
